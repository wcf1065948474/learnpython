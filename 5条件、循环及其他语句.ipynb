{
 "cells": [
  {
   "cell_type": "markdown",
   "metadata": {},
   "source": [
    "# print 和 import的隐藏特性"
   ]
  },
  {
   "cell_type": "markdown",
   "metadata": {},
   "source": [
    "### 打印多个参数"
   ]
  },
  {
   "cell_type": "code",
   "execution_count": 1,
   "metadata": {},
   "outputs": [
    {
     "name": "stdout",
     "output_type": "stream",
     "text": [
      "hello world\n"
     ]
    }
   ],
   "source": [
    "print(\"hello\",\"world\")  #打印多个参数，使用逗号隔开，参数之间插入一个空格"
   ]
  },
  {
   "cell_type": "code",
   "execution_count": 2,
   "metadata": {},
   "outputs": [
    {
     "name": "stdout",
     "output_type": "stream",
     "text": [
      "This_is_a_test\n"
     ]
    }
   ],
   "source": [
    "print(\"This\",\"is\",\"a\",\"test\",sep='_')   #自定义分隔符"
   ]
  },
  {
   "cell_type": "code",
   "execution_count": 3,
   "metadata": {},
   "outputs": [
    {
     "name": "stdout",
     "output_type": "stream",
     "text": [
      "hello,world!\n"
     ]
    }
   ],
   "source": [
    "print(\"hello,\",end='')   #自定义结束结束字符串,以替换默认的换行符\n",
    "print(\"world!\")"
   ]
  },
  {
   "cell_type": "markdown",
   "metadata": {},
   "source": [
    "### 导入时重命名\n",
    "在语句末尾添加 as 子句并指定别名。"
   ]
  },
  {
   "cell_type": "code",
   "execution_count": 4,
   "metadata": {},
   "outputs": [
    {
     "data": {
      "text/plain": [
       "2.0"
      ]
     },
     "execution_count": 4,
     "metadata": {},
     "output_type": "execute_result"
    }
   ],
   "source": [
    "import math as foobar\n",
    "foobar.sqrt(4)"
   ]
  },
  {
   "cell_type": "code",
   "execution_count": 5,
   "metadata": {},
   "outputs": [
    {
     "data": {
      "text/plain": [
       "2.0"
      ]
     },
     "execution_count": 5,
     "metadata": {},
     "output_type": "execute_result"
    }
   ],
   "source": [
    "from math import sqrt as test   #导入特定函数并指定别名\n",
    "test(4)"
   ]
  },
  {
   "cell_type": "markdown",
   "metadata": {},
   "source": [
    "# 赋值语句"
   ]
  },
  {
   "cell_type": "markdown",
   "metadata": {},
   "source": [
    "### 序列解包"
   ]
  },
  {
   "cell_type": "code",
   "execution_count": 6,
   "metadata": {},
   "outputs": [
    {
     "name": "stdout",
     "output_type": "stream",
     "text": [
      "1 2 3\n"
     ]
    }
   ],
   "source": [
    "x,y,z = 1,2,3    #同时(并行)给多个变量赋值\n",
    "print(x,y,z)"
   ]
  },
  {
   "cell_type": "code",
   "execution_count": 7,
   "metadata": {},
   "outputs": [
    {
     "name": "stdout",
     "output_type": "stream",
     "text": [
      "1 2\n",
      "2 1\n"
     ]
    }
   ],
   "source": [
    "print(x,y)\n",
    "x,y = y,x  #交换多个变量的值\n",
    "print(x,y)"
   ]
  },
  {
   "cell_type": "markdown",
   "metadata": {},
   "source": [
    "这里执行的操作称为**序列解包**(或**可迭代对象解包**):将一个序列(或任何可迭代对象)解包,并将得到的值存储到一系列变量中。如下所示："
   ]
  },
  {
   "cell_type": "code",
   "execution_count": 8,
   "metadata": {},
   "outputs": [
    {
     "data": {
      "text/plain": [
       "2"
      ]
     },
     "execution_count": 8,
     "metadata": {},
     "output_type": "execute_result"
    }
   ],
   "source": [
    "value = 1,2,3\n",
    "x,y,z = value\n",
    "y"
   ]
  },
  {
   "cell_type": "code",
   "execution_count": 9,
   "metadata": {},
   "outputs": [
    {
     "name": "stdout",
     "output_type": "stream",
     "text": [
      "age\n",
      "19\n"
     ]
    }
   ],
   "source": [
    "dic = {\"name\":\"Tony\",\"age\":19}\n",
    "key,value = dic.popitem()    #获取一个键-值对并以元组的方式返回\n",
    "print(key)     #直接将返回的元组解包到两个变量中\n",
    "print(value)"
   ]
  },
  {
   "cell_type": "markdown",
   "metadata": {},
   "source": [
    "这让函数能够返回被打包成元组的多个值,然后通过一条赋值语句轻松地访问这些值。要解包的序列包含的元素个数必须与在等号左边列出的目标个数相同,否则Python将引发异常。"
   ]
  },
  {
   "cell_type": "code",
   "execution_count": 10,
   "metadata": {},
   "outputs": [
    {
     "ename": "ValueError",
     "evalue": "not enough values to unpack (expected 3, got 2)",
     "output_type": "error",
     "traceback": [
      "\u001b[0;31m---------------------------------------------------------------------------\u001b[0m",
      "\u001b[0;31mValueError\u001b[0m                                Traceback (most recent call last)",
      "\u001b[0;32m<ipython-input-10-7279b521a3d9>\u001b[0m in \u001b[0;36m<module>\u001b[0;34m()\u001b[0m\n\u001b[0;32m----> 1\u001b[0;31m \u001b[0mx\u001b[0m\u001b[0;34m,\u001b[0m\u001b[0my\u001b[0m\u001b[0;34m,\u001b[0m\u001b[0mx\u001b[0m \u001b[0;34m=\u001b[0m \u001b[0;36m1\u001b[0m\u001b[0;34m,\u001b[0m\u001b[0;36m2\u001b[0m\u001b[0;34m\u001b[0m\u001b[0m\n\u001b[0m",
      "\u001b[0;31mValueError\u001b[0m: not enough values to unpack (expected 3, got 2)"
     ]
    }
   ],
   "source": [
    "x,y,x = 1,2"
   ]
  },
  {
   "cell_type": "code",
   "execution_count": 11,
   "metadata": {},
   "outputs": [
    {
     "data": {
      "text/plain": [
       "[3, 4]"
      ]
     },
     "execution_count": 11,
     "metadata": {},
     "output_type": "execute_result"
    }
   ],
   "source": [
    "x,y,*rest = [1,2,3,4]    #使用星号运算符收集多余的值\n",
    "rest"
   ]
  },
  {
   "cell_type": "code",
   "execution_count": 12,
   "metadata": {},
   "outputs": [
    {
     "data": {
      "text/plain": [
       "('this', ['is', 'a'], 'test')"
      ]
     },
     "execution_count": 12,
     "metadata": {},
     "output_type": "execute_result"
    }
   ],
   "source": [
    "text = \"this is a test\"\n",
    "a,*b,c = text.split() #将带星号的变量放在其他位置\n",
    "a,b,c"
   ]
  },
  {
   "cell_type": "code",
   "execution_count": 13,
   "metadata": {},
   "outputs": [
    {
     "data": {
      "text/plain": [
       "('a', ['b'], 'c')"
      ]
     },
     "execution_count": 13,
     "metadata": {},
     "output_type": "execute_result"
    }
   ],
   "source": [
    "a, *b, c = \"abc\"  #赋值语句的右边可以是任何类型的序列,无论变量和值的个数是否相同,带星号的变量最终包含的总是一个列表\n",
    "a,b,c"
   ]
  },
  {
   "cell_type": "markdown",
   "metadata": {},
   "source": [
    "### 链式赋值\n",
    "链式赋值是一种快捷方式,用于将多个变量关联到同一个值。"
   ]
  },
  {
   "cell_type": "code",
   "execution_count": null,
   "metadata": {},
   "outputs": [],
   "source": [
    "x = y = function()   #等价于y=function() , x=y 但不一定等价于y=function(),x=function()"
   ]
  },
  {
   "cell_type": "markdown",
   "metadata": {},
   "source": [
    "### 增强赋值"
   ]
  },
  {
   "cell_type": "code",
   "execution_count": 14,
   "metadata": {},
   "outputs": [
    {
     "data": {
      "text/plain": [
       "3"
      ]
     },
     "execution_count": 14,
     "metadata": {},
     "output_type": "execute_result"
    }
   ],
   "source": [
    "x=2\n",
    "x += 1  #等价于x=x+1,这称为增强赋值,适用于所有标准运算符,如 * 、 / 、 % 等\n",
    "x"
   ]
  },
  {
   "cell_type": "code",
   "execution_count": 15,
   "metadata": {},
   "outputs": [
    {
     "data": {
      "text/plain": [
       "'testwordtestword'"
      ]
     },
     "execution_count": 15,
     "metadata": {},
     "output_type": "execute_result"
    }
   ],
   "source": [
    "t = \"test\"    #增强赋值也可用于其他数据类型(只要使用的双目运算符可用于这些数据类型)\n",
    "t += \"word\"\n",
    "t *= 2\n",
    "t"
   ]
  },
  {
   "cell_type": "markdown",
   "metadata": {},
   "source": [
    "# 代码块\n",
    "代码块是一组语句,可在满足条件时执行( if 语句),可执行多次(循环),等等。代码块是通过缩进代码(即在前面加空格)来创建的。"
   ]
  },
  {
   "cell_type": "markdown",
   "metadata": {},
   "source": [
    "# 条件和条件语句"
   ]
  },
  {
   "cell_type": "markdown",
   "metadata": {},
   "source": [
    "### 布尔值\n",
    "用作布尔表达式(如用作 if 语句中的条件)时,下面的值都将被解释器视为**假**:<br>\n",
    "False &nbsp; None &nbsp; 0 &nbsp; \"\" &nbsp; () &nbsp; [] &nbsp; {}<br>\n",
    "换而言之,标准值 False 和 None 、各种类型(包括浮点数、复数等)的数值0、空序列(如空字符串、空元组和空列表)以及空映射(如空字典)都被视为假,而其他各种值都被视为真 1 ,包括特殊值 True 。"
   ]
  },
  {
   "cell_type": "code",
   "execution_count": 16,
   "metadata": {},
   "outputs": [
    {
     "name": "stdout",
     "output_type": "stream",
     "text": [
      "True\n",
      "False\n"
     ]
    }
   ],
   "source": [
    "print(bool('test'))   #使用bool()来转换其他值\n",
    "print(bool(''))"
   ]
  },
  {
   "cell_type": "markdown",
   "metadata": {},
   "source": [
    "### 有条件地执行和 if 语句"
   ]
  },
  {
   "cell_type": "code",
   "execution_count": 17,
   "metadata": {},
   "outputs": [
    {
     "name": "stdout",
     "output_type": "stream",
     "text": [
      "hello world!\n"
     ]
    }
   ],
   "source": [
    "x = True\n",
    "if x:       #当x为真时执行\n",
    "    print(\"hello world!\")"
   ]
  },
  {
   "cell_type": "markdown",
   "metadata": {},
   "source": [
    "### else 子句"
   ]
  },
  {
   "cell_type": "code",
   "execution_count": 18,
   "metadata": {},
   "outputs": [
    {
     "name": "stdout",
     "output_type": "stream",
     "text": [
      "This is a test!\n"
     ]
    }
   ],
   "source": [
    "x = False\n",
    "if x:\n",
    "    print(\"hello world!\")\n",
    "else:\n",
    "    print(\"This is a test!\")   #当x为False时执行该语句"
   ]
  },
  {
   "cell_type": "markdown",
   "metadata": {},
   "source": [
    "### elif 子句\n",
    "要检查多个条件,可使用 elif 。 elif 是 else if 的缩写,由一个 if 子句和一个 else 子句组合而成,也就是包含条件的 else 子句。"
   ]
  },
  {
   "cell_type": "code",
   "execution_count": 19,
   "metadata": {},
   "outputs": [
    {
     "name": "stdout",
     "output_type": "stream",
     "text": [
      "请输入一个数字：-1\n",
      "小于0\n"
     ]
    }
   ],
   "source": [
    "num = int(input(\"请输入一个数字：\"))\n",
    "if num == 0:\n",
    "    print(\"等于0\")\n",
    "elif num < 0:\n",
    "    print(\"小于0\")\n",
    "else:\n",
    "    print(\"大于0\")"
   ]
  },
  {
   "cell_type": "markdown",
   "metadata": {},
   "source": [
    "### 代码块嵌套"
   ]
  },
  {
   "cell_type": "code",
   "execution_count": 20,
   "metadata": {},
   "outputs": [
    {
     "name": "stdout",
     "output_type": "stream",
     "text": [
      "输入成绩：91\n",
      "优秀\n"
     ]
    }
   ],
   "source": [
    "num = int(input(\"输入成绩：\"))\n",
    "if num >= 60:\n",
    "    if num == 60:\n",
    "        print(\"及格\")\n",
    "    else:\n",
    "        if num < 90:\n",
    "            print(\"良好\")\n",
    "        else:\n",
    "            print(\"优秀\")\n",
    "else :\n",
    "    print(\"不及格\")"
   ]
  },
  {
   "cell_type": "markdown",
   "metadata": {},
   "source": [
    "### 更复杂的条件"
   ]
  },
  {
   "cell_type": "markdown",
   "metadata": {},
   "source": [
    "**比较运算符** <br>\n",
    "在条件表达式中,最基本的运算符可能是**比较运算符**,它们用于执行比较。<br>\n",
    "\n",
    "表达式|描述\n",
    "---|----\n",
    "x == y|x 等于 y\n",
    "x < y|x 小于 y\n",
    "x > y|x 大于 y\n",
    "x >= y|x 大于或等于 y\n",
    "x <= y|x 小于或等于 y\n",
    "x != y|x 不等于 y\n",
    "x is y|x 和 y 是同一个对象\n",
    "x is not y|x 和 y 是不同的对象\n",
    "x in y|x 是容器(如序列) y 的成员\n",
    "x not in y|x 不是容器(如序列) y 的成员"
   ]
  },
  {
   "cell_type": "markdown",
   "metadata": {},
   "source": [
    "* 相等运算符 <br>\n",
    "要确定两个对象是否相等,可使用比较运算符,用两个等号( == )表示。<br>"
   ]
  },
  {
   "cell_type": "code",
   "execution_count": 21,
   "metadata": {},
   "outputs": [
    {
     "name": "stdout",
     "output_type": "stream",
     "text": [
      "True\n",
      "False\n"
     ]
    }
   ],
   "source": [
    "print(\"test\" == \"test\")\n",
    "print(\"text\" == \"test\")"
   ]
  },
  {
   "cell_type": "markdown",
   "metadata": {},
   "source": [
    "* 相同运算符 <br>\n",
    "其作用看似与 == 一样,但实际上并非如此。"
   ]
  },
  {
   "cell_type": "code",
   "execution_count": 22,
   "metadata": {},
   "outputs": [
    {
     "name": "stdout",
     "output_type": "stream",
     "text": [
      "x==y: True\n",
      "x==z: True\n",
      "x is y: True\n",
      "x is z: False\n"
     ]
    }
   ],
   "source": [
    "x = y = [1,2,3]\n",
    "z = [1,2,3]\n",
    "print(\"x==y:\",x==y)\n",
    "print(\"x==z:\",x==z)\n",
    "print(\"x is y:\",x is y)\n",
    "print(\"x is z:\",x is z)"
   ]
  },
  {
   "cell_type": "markdown",
   "metadata": {},
   "source": [
    "is 检查两个对象是否**相同**(而不是**相等**)。变量 x 和 y 指向同一个列表,而 z 指向另一个列表(其中包含的值以及这些值的排列顺序都与前一个列表相同)。这两个列表虽然相等,但并非**同一个对象**。 <br>\n",
    "== 用来检查两个对象是否相等,而 is 用来检查两个对象是否相同(是同一个对象)。"
   ]
  },
  {
   "cell_type": "markdown",
   "metadata": {},
   "source": [
    "* in :成员资格运算符 "
   ]
  },
  {
   "cell_type": "code",
   "execution_count": 23,
   "metadata": {},
   "outputs": [
    {
     "name": "stdout",
     "output_type": "stream",
     "text": [
      "输入一些字母：apple\n",
      "字母中包含a\n"
     ]
    }
   ],
   "source": [
    "word = input(\"输入一些字母：\")\n",
    "if 'a' in word:\n",
    "    print(\"字母中包含a\")\n",
    "else:\n",
    "    print(\"字母中不包含a\")"
   ]
  },
  {
   "cell_type": "markdown",
   "metadata": {},
   "source": [
    "* 字符串和序列的比较 <br>\n",
    "字符串是根据字符的字母排列顺序进行比较的。"
   ]
  },
  {
   "cell_type": "code",
   "execution_count": 24,
   "metadata": {},
   "outputs": [
    {
     "data": {
      "text/plain": [
       "True"
      ]
     },
     "execution_count": 24,
     "metadata": {},
     "output_type": "execute_result"
    }
   ],
   "source": [
    "\"test\" > \"hello\""
   ]
  },
  {
   "cell_type": "markdown",
   "metadata": {},
   "source": [
    "**布尔运算符** <br>\n",
    "and &nbsp; or &nbsp; not"
   ]
  },
  {
   "cell_type": "markdown",
   "metadata": {},
   "source": [
    "### 断言\n",
    "如果知道必须满足特定条件,程序才能正确地运行,可在程序中添加 assert 语句充当检查点，还可在条件后面添加一个字符串,对断言做出说明。"
   ]
  },
  {
   "cell_type": "code",
   "execution_count": 25,
   "metadata": {},
   "outputs": [],
   "source": [
    "test = 1\n",
    "assert 0<test<10"
   ]
  },
  {
   "cell_type": "code",
   "execution_count": 26,
   "metadata": {},
   "outputs": [
    {
     "ename": "AssertionError",
     "evalue": "这是说明",
     "output_type": "error",
     "traceback": [
      "\u001b[0;31m---------------------------------------------------------------------------\u001b[0m",
      "\u001b[0;31mAssertionError\u001b[0m                            Traceback (most recent call last)",
      "\u001b[0;32m<ipython-input-26-4cde6dd11af0>\u001b[0m in \u001b[0;36m<module>\u001b[0;34m()\u001b[0m\n\u001b[1;32m      1\u001b[0m \u001b[0mtest\u001b[0m \u001b[0;34m=\u001b[0m \u001b[0;34m-\u001b[0m\u001b[0;36m1\u001b[0m\u001b[0;34m\u001b[0m\u001b[0m\n\u001b[0;32m----> 2\u001b[0;31m \u001b[0;32massert\u001b[0m \u001b[0;36m0\u001b[0m\u001b[0;34m<\u001b[0m\u001b[0mtest\u001b[0m\u001b[0;34m<\u001b[0m\u001b[0;36m10\u001b[0m\u001b[0;34m,\u001b[0m\u001b[0;34m'这是说明'\u001b[0m\u001b[0;34m\u001b[0m\u001b[0m\n\u001b[0m",
      "\u001b[0;31mAssertionError\u001b[0m: 这是说明"
     ]
    }
   ],
   "source": [
    "test = -1\n",
    "assert 0<test<10,'这是说明'"
   ]
  },
  {
   "cell_type": "markdown",
   "metadata": {},
   "source": [
    "# 循环"
   ]
  },
  {
   "cell_type": "markdown",
   "metadata": {},
   "source": [
    "### while循环"
   ]
  },
  {
   "cell_type": "code",
   "execution_count": 27,
   "metadata": {},
   "outputs": [
    {
     "name": "stdout",
     "output_type": "stream",
     "text": [
      "1\n",
      "2\n",
      "3\n",
      "4\n",
      "5\n",
      "6\n",
      "7\n",
      "8\n",
      "9\n",
      "10\n"
     ]
    }
   ],
   "source": [
    "x = 1\n",
    "while x<=10:\n",
    "    print(x)\n",
    "    x += 1"
   ]
  },
  {
   "cell_type": "markdown",
   "metadata": {},
   "source": [
    "### for 循环\n",
    "为序列(或其他可迭代对象)中每个元素执行代码块。"
   ]
  },
  {
   "cell_type": "code",
   "execution_count": 28,
   "metadata": {},
   "outputs": [
    {
     "name": "stdout",
     "output_type": "stream",
     "text": [
      "This\n",
      "is\n",
      "a\n",
      "test\n",
      "!\n"
     ]
    }
   ],
   "source": [
    "word = ['This','is','a','test','!']\n",
    "for i in word:\n",
    "    print(i)"
   ]
  },
  {
   "cell_type": "code",
   "execution_count": 29,
   "metadata": {},
   "outputs": [
    {
     "data": {
      "text/plain": [
       "[0, 1, 2, 3, 4, 5, 6, 7, 8, 9]"
      ]
     },
     "execution_count": 29,
     "metadata": {},
     "output_type": "execute_result"
    }
   ],
   "source": [
    "list(range(0, 10))  #迭代(也就是遍历)特定范围内的数是一种常见的任务,Python提供了一个创建范围的内置函数"
   ]
  },
  {
   "cell_type": "code",
   "execution_count": 30,
   "metadata": {},
   "outputs": [
    {
     "name": "stdout",
     "output_type": "stream",
     "text": [
      "0\n",
      "1\n",
      "2\n",
      "3\n",
      "4\n",
      "5\n",
      "6\n",
      "7\n",
      "8\n",
      "9\n",
      "10\n"
     ]
    }
   ],
   "source": [
    "for i in range(0,11):\n",
    "    print(i)"
   ]
  },
  {
   "cell_type": "markdown",
   "metadata": {},
   "source": [
    "### 迭代字典\n",
    "要遍历字典的所有关键字,可像遍历序列那样使用普通的 for 语句。"
   ]
  },
  {
   "cell_type": "code",
   "execution_count": 31,
   "metadata": {},
   "outputs": [
    {
     "name": "stdout",
     "output_type": "stream",
     "text": [
      "key:a;value:1\n",
      "key:b;value:2\n",
      "key:c;value:3\n",
      "key:d;value:4\n"
     ]
    }
   ],
   "source": [
    "dic = {'a':1,'b':2,'c':3,'d':4}\n",
    "for key in dic:\n",
    "    print('key:'+key+';'+'value:'+str(dic[key]))"
   ]
  },
  {
   "cell_type": "markdown",
   "metadata": {},
   "source": [
    "也可使用 keys 等字典方法来获取所有的键。如果只对值感兴趣,可使用 values 。items 以元组的方式返回键-值对。 for 循环的优点之一是,可在其中使用序列解包。"
   ]
  },
  {
   "cell_type": "code",
   "execution_count": 32,
   "metadata": {},
   "outputs": [
    {
     "name": "stdout",
     "output_type": "stream",
     "text": [
      "key:a;value:1\n",
      "key:b;value:2\n",
      "key:c;value:3\n",
      "key:d;value:4\n"
     ]
    }
   ],
   "source": [
    "for key,value in dic.items():\n",
    "    print('key:'+key+';value:'+str(value))"
   ]
  },
  {
   "cell_type": "markdown",
   "metadata": {},
   "source": [
    "### 一些迭代工具"
   ]
  },
  {
   "cell_type": "markdown",
   "metadata": {},
   "source": [
    "**并行迭代** <br>\n",
    "可以同时迭代两个序列。"
   ]
  },
  {
   "cell_type": "code",
   "execution_count": 33,
   "metadata": {},
   "outputs": [
    {
     "name": "stdout",
     "output_type": "stream",
     "text": [
      "Tony的年龄是23\n",
      "Alice的年龄是34\n",
      "Cook的年龄是43\n",
      "Jobs的年龄是56\n"
     ]
    }
   ],
   "source": [
    "name = ['Tony','Alice','Cook','Jobs']\n",
    "age = ['23','34','43','56']\n",
    "for i in range(len(name)):\n",
    "    print(name[i]+'的年龄是'+age[i])"
   ]
  },
  {
   "cell_type": "markdown",
   "metadata": {},
   "source": [
    "一个很有用的并行迭代工具是内置函数 zip ,它将两个序列“缝合”起来,并返回一个由元组组成的序列。返回值是一个适合迭代的对象,要查看其内容,可使用 list 将其转换为列表。"
   ]
  },
  {
   "cell_type": "code",
   "execution_count": 34,
   "metadata": {},
   "outputs": [
    {
     "data": {
      "text/plain": [
       "[('Tony', '23'), ('Alice', '34'), ('Cook', '43'), ('Jobs', '56')]"
      ]
     },
     "execution_count": 34,
     "metadata": {},
     "output_type": "execute_result"
    }
   ],
   "source": [
    "list(zip(name,age))"
   ]
  },
  {
   "cell_type": "code",
   "execution_count": 35,
   "metadata": {},
   "outputs": [
    {
     "name": "stdout",
     "output_type": "stream",
     "text": [
      "Tony的年龄是23\n",
      "Alice的年龄是34\n",
      "Cook的年龄是43\n",
      "Jobs的年龄是56\n"
     ]
    }
   ],
   "source": [
    "for na,ag in zip(name,age):\n",
    "    print(na+'的年龄是'+ag)"
   ]
  },
  {
   "cell_type": "markdown",
   "metadata": {},
   "source": [
    "函数 zip 可用于“缝合”任意数量的序列。当序列的长度不同时,函数 zip 将在最短的序列用完后停止“缝合”。"
   ]
  },
  {
   "cell_type": "code",
   "execution_count": 36,
   "metadata": {},
   "outputs": [
    {
     "data": {
      "text/plain": [
       "[(0, 0),\n",
       " (1, 1),\n",
       " (2, 2),\n",
       " (3, 3),\n",
       " (4, 4),\n",
       " (5, 5),\n",
       " (6, 6),\n",
       " (7, 7),\n",
       " (8, 8),\n",
       " (9, 9)]"
      ]
     },
     "execution_count": 36,
     "metadata": {},
     "output_type": "execute_result"
    }
   ],
   "source": [
    "list(zip(range(10),range(100)))"
   ]
  },
  {
   "cell_type": "markdown",
   "metadata": {},
   "source": [
    "**迭代时获取索引** <br>\n",
    "使用内置函数enumerate。"
   ]
  },
  {
   "cell_type": "code",
   "execution_count": 37,
   "metadata": {},
   "outputs": [
    {
     "data": {
      "text/plain": [
       "['hello', 'world', '[oops]', '[oops]']"
      ]
     },
     "execution_count": 37,
     "metadata": {},
     "output_type": "execute_result"
    }
   ],
   "source": [
    "strings = ['hello','world','this','test']\n",
    "for index,string in enumerate(strings):\n",
    "    if 't' in string:\n",
    "        strings[index] = '[oops]'\n",
    "strings"
   ]
  },
  {
   "cell_type": "markdown",
   "metadata": {},
   "source": [
    "**反向迭代和排序后再迭代** <br>\n",
    "另外两个很有用的函数: reversed 和 sorted 。它们类似于列表方法 reverse 和 sort (sorted接受的参数也与sort类似),但可用于任何序列或可迭代的对象,且不就地修改对象,而是返回反转和排序后的版本。"
   ]
  },
  {
   "cell_type": "code",
   "execution_count": 38,
   "metadata": {},
   "outputs": [
    {
     "name": "stdout",
     "output_type": "stream",
     "text": [
      "[3, 3, 4, 6, 8]\n",
      "[' ', '!', ',', 'H', 'd', 'e', 'l', 'l', 'l', 'o', 'o', 'r', 'w']\n",
      "['!', 'd', 'l', 'r', 'o', 'w', ' ', ',', 'o', 'l', 'l', 'e', 'H']\n",
      "!dlrow ,olleH\n"
     ]
    }
   ],
   "source": [
    "print(sorted([4, 3, 6, 8, 3]))\n",
    "print(sorted('Hello, world!'))\n",
    "print(list(reversed('Hello, world!')))\n",
    "print(''.join(reversed('Hello, world!')))"
   ]
  },
  {
   "cell_type": "markdown",
   "metadata": {},
   "source": [
    "sorted 返回一个列表,而 reversed 像 zip 那样返回一个更神秘的可迭代对象。无需关心这到底意味着什么,只管在 for 循环或 join 等方法中使用它,不会有任何问题。只是不能对它执行索引或切片操作,也不能直接对它调用列表的方法。要执行这些操作,可先使用 list 对返回的对象进行转换。<br>\n",
    "**提示** 要按字母表排序,可先转换为小写。为此,可将 sort 或 sorted 的 key 参数设置为 str.lower 。例如, sorted(\"aBc\", key=str.lower) 返回 ['a','B','c'] 。"
   ]
  },
  {
   "cell_type": "markdown",
   "metadata": {},
   "source": [
    "### 跳出循环"
   ]
  },
  {
   "cell_type": "markdown",
   "metadata": {},
   "source": [
    "**break** <br>\n",
    "要结束(跳出)循环,可使用 break 。"
   ]
  },
  {
   "cell_type": "code",
   "execution_count": 39,
   "metadata": {},
   "outputs": [
    {
     "name": "stdout",
     "output_type": "stream",
     "text": [
      "81\n"
     ]
    }
   ],
   "source": [
    "from math import sqrt\n",
    "for n in range(99, 0, -1):    #找出小于100的最大平方值\n",
    "    root = sqrt(n)\n",
    "    if root == int(root):\n",
    "        print(n)\n",
    "        break"
   ]
  },
  {
   "cell_type": "code",
   "execution_count": 40,
   "metadata": {},
   "outputs": [
    {
     "data": {
      "text/plain": [
       "[10, 8, 6, 4, 2]"
      ]
     },
     "execution_count": 40,
     "metadata": {},
     "output_type": "execute_result"
    }
   ],
   "source": [
    "list(range(10,0,-2))   #第三个参数为步长，负数表示向下迭代"
   ]
  },
  {
   "cell_type": "markdown",
   "metadata": {},
   "source": [
    "**continue** <br>\n",
    "语句continue结束当前迭代,并跳到下一次迭代开头。这基本上意味着跳过循环体中余下的语句,但不结束循环。这在循环体庞大而复杂,且存在多个要跳过它的原因时很有用。"
   ]
  },
  {
   "cell_type": "markdown",
   "metadata": {},
   "source": [
    "**while True/break**"
   ]
  },
  {
   "cell_type": "code",
   "execution_count": 41,
   "metadata": {},
   "outputs": [
    {
     "name": "stdout",
     "output_type": "stream",
     "text": [
      "请输入一个单词：work\n",
      "你输入的单词是work\n",
      "请输入一个单词：end\n",
      "你输入的单词是end\n",
      "请输入一个单词：\n"
     ]
    }
   ],
   "source": [
    "word = input(\"请输入一个单词：\")\n",
    "while True:\n",
    "    if not word:break\n",
    "    print(\"你输入的单词是\"+word)\n",
    "    word = input(\"请输入一个单词：\")"
   ]
  },
  {
   "cell_type": "markdown",
   "metadata": {},
   "source": [
    "**循环中的 else 子句** <br>\n",
    "在循环开始前定义一个布尔变量并将其设置为 False ,再在跳出循环时将其设置为 True 。这样就可在循环后面使用一条 if 语句来判断循环是否是提前结束的。"
   ]
  },
  {
   "cell_type": "code",
   "execution_count": null,
   "metadata": {},
   "outputs": [],
   "source": [
    "broke_out = False\n",
    "for x in seq:\n",
    "    do_something(x)\n",
    "    if condition(x):\n",
    "        broke_out = True\n",
    "        break\n",
    "    do_something_else(x)\n",
    "if not broke_out:\n",
    "    print(\"未提前结束!\")"
   ]
  },
  {
   "cell_type": "markdown",
   "metadata": {},
   "source": [
    "或者在循环中添加一条 else 子句,它仅在**没有**调用 break 时才执行。"
   ]
  },
  {
   "cell_type": "code",
   "execution_count": 42,
   "metadata": {},
   "outputs": [
    {
     "name": "stdout",
     "output_type": "stream",
     "text": [
      "未能找到!\n"
     ]
    }
   ],
   "source": [
    "from math import sqrt\n",
    "for n in range(99, 81, -1):   #找出小于100大于81的最大平方值\n",
    "    root = sqrt(n)\n",
    "    if root == int(root):\n",
    "        print(n)\n",
    "        break\n",
    "else:\n",
    "    print(\"未能找到!\") "
   ]
  },
  {
   "cell_type": "markdown",
   "metadata": {},
   "source": [
    "# 简单推导\n",
    "列表推导是一种从其他列表创建列表的方式,类似于数学中的集合推导。列表推导有点类似于 for 循环。"
   ]
  },
  {
   "cell_type": "code",
   "execution_count": 43,
   "metadata": {},
   "outputs": [
    {
     "data": {
      "text/plain": [
       "[0, 1, 4, 9, 16, 25, 36, 49, 64, 81]"
      ]
     },
     "execution_count": 43,
     "metadata": {},
     "output_type": "execute_result"
    }
   ],
   "source": [
    "[x * x for x in range(10)]   #打印平方值"
   ]
  },
  {
   "cell_type": "code",
   "execution_count": 44,
   "metadata": {},
   "outputs": [
    {
     "data": {
      "text/plain": [
       "[0, 9, 36, 81]"
      ]
     },
     "execution_count": 44,
     "metadata": {},
     "output_type": "execute_result"
    }
   ],
   "source": [
    "[x*x for x in range(10) if x % 3 == 0]  #只打印能被3整除的平方值"
   ]
  },
  {
   "cell_type": "code",
   "execution_count": 45,
   "metadata": {},
   "outputs": [
    {
     "name": "stdout",
     "output_type": "stream",
     "text": [
      "[(0, 0), (0, 1), (0, 2), (1, 0), (1, 1), (1, 2), (2, 0), (2, 1), (2, 2)]\n",
      "[(0, 0), (0, 1), (0, 2), (1, 0), (1, 1), (1, 2), (2, 0), (2, 1), (2, 2)]\n"
     ]
    }
   ],
   "source": [
    "print([(x, y) for x in range(3) for y in range(3)])   #添加更多for循环\n",
    "\n",
    "result = []      #以下两个for循环效果与上面相同\n",
    "for x in range(3):\n",
    "    for y in range(3):\n",
    "        result.append((x, y))\n",
    "print(result)"
   ]
  },
  {
   "cell_type": "code",
   "execution_count": 46,
   "metadata": {},
   "outputs": [
    {
     "data": {
      "text/plain": [
       "['chris+clarice', 'arnold+alice', 'bob+bernice']"
      ]
     },
     "execution_count": 46,
     "metadata": {},
     "output_type": "execute_result"
    }
   ],
   "source": [
    "girls = ['alice', 'bernice', 'clarice']\n",
    "boys = ['chris', 'arnold', 'bob']\n",
    "[b+'+'+g for b in boys for g in girls if b[0] == g[0]]   #有多个for时也可以添加if语句"
   ]
  },
  {
   "cell_type": "code",
   "execution_count": 47,
   "metadata": {},
   "outputs": [
    {
     "data": {
      "text/plain": [
       "{0: '0的平方是0',\n",
       " 1: '1的平方是1',\n",
       " 2: '2的平方是4',\n",
       " 3: '3的平方是9',\n",
       " 4: '4的平方是16',\n",
       " 5: '5的平方是25',\n",
       " 6: '6的平方是36',\n",
       " 7: '7的平方是49',\n",
       " 8: '8的平方是64',\n",
       " 9: '9的平方是81'}"
      ]
     },
     "execution_count": 47,
     "metadata": {},
     "output_type": "execute_result"
    }
   ],
   "source": [
    "squares = {i:\"{}的平方是{}\".format(i, i**2) for i in range(10)}\n",
    "squares"
   ]
  },
  {
   "cell_type": "markdown",
   "metadata": {},
   "source": [
    "# pass 、 del 和 exec"
   ]
  },
  {
   "cell_type": "markdown",
   "metadata": {},
   "source": [
    "### 什么都不做：pass\n",
    "在编写代码时,可将其用作占位符。"
   ]
  },
  {
   "cell_type": "code",
   "execution_count": 48,
   "metadata": {},
   "outputs": [],
   "source": [
    "if True:\n",
    "    pass  #占位，以后实现未完成的功能"
   ]
  },
  {
   "cell_type": "markdown",
   "metadata": {},
   "source": [
    "### 使用 del 删除\n",
    "这不仅会删除到对象的引用,还会删除名称本身。"
   ]
  },
  {
   "cell_type": "code",
   "execution_count": 49,
   "metadata": {},
   "outputs": [
    {
     "ename": "NameError",
     "evalue": "name 'x' is not defined",
     "output_type": "error",
     "traceback": [
      "\u001b[0;31m---------------------------------------------------------------------------\u001b[0m",
      "\u001b[0;31mNameError\u001b[0m                                 Traceback (most recent call last)",
      "\u001b[0;32m<ipython-input-49-6699b379bc1b>\u001b[0m in \u001b[0;36m<module>\u001b[0;34m()\u001b[0m\n\u001b[1;32m      1\u001b[0m \u001b[0mx\u001b[0m \u001b[0;34m=\u001b[0m \u001b[0;36m1\u001b[0m\u001b[0;34m\u001b[0m\u001b[0m\n\u001b[1;32m      2\u001b[0m \u001b[0;32mdel\u001b[0m \u001b[0mx\u001b[0m\u001b[0;34m\u001b[0m\u001b[0m\n\u001b[0;32m----> 3\u001b[0;31m \u001b[0mx\u001b[0m\u001b[0;34m\u001b[0m\u001b[0m\n\u001b[0m",
      "\u001b[0;31mNameError\u001b[0m: name 'x' is not defined"
     ]
    }
   ],
   "source": [
    "x = 1\n",
    "del x\n",
    "x"
   ]
  },
  {
   "cell_type": "code",
   "execution_count": 50,
   "metadata": {},
   "outputs": [
    {
     "name": "stdout",
     "output_type": "stream",
     "text": [
      "['Hello', 'Python']\n",
      "['Hello', 'Python']\n"
     ]
    }
   ],
   "source": [
    "x = [\"Hello\", \"world\"]\n",
    "y = x\n",
    "y[1] = \"Python\"\n",
    "print(x)\n",
    "del x\n",
    "print(y)    #删掉了x后依然可以访问y，因为只是删掉了名称x并没有删掉列表"
   ]
  },
  {
   "cell_type": "markdown",
   "metadata": {},
   "source": [
    "事实上,在Python中,根本就没有办法删除值,而且你也不需要这样做,因为对于你不再使用的值,Python解释器会立即将其删除。"
   ]
  },
  {
   "cell_type": "markdown",
   "metadata": {},
   "source": [
    "### 使用 exec 和 eval 执行字符串及计算其结果\n",
    "动态地编写Python代码,并将其作为语句进行执行或作为表达式进行计算。<br>\n",
    "**警告** 执行存储在字符串中的Python代码,这样做可能带来严重的安全隐患。如果将部分内容由用户提供的字符串作为代码执行,将无法控制代码的行为。在网络应用程序,如通用网关接口(CGI)脚本中,这样做尤其危险。"
   ]
  },
  {
   "cell_type": "markdown",
   "metadata": {},
   "source": [
    "**exec** <br>\n",
    "函数 exec 将字符串作为代码执行。"
   ]
  },
  {
   "cell_type": "code",
   "execution_count": 51,
   "metadata": {},
   "outputs": [
    {
     "name": "stdout",
     "output_type": "stream",
     "text": [
      "hello world\n"
     ]
    }
   ],
   "source": [
    "exec(\"print('hello world')\")"
   ]
  },
  {
   "cell_type": "markdown",
   "metadata": {},
   "source": [
    "调用函数 exec 时只给它提供一个参数绝非好事。在大多数情况下,还应向它传递一个**命名空间**——用于放置变量的地方;否则代码将污染你的命名空间,即修改你的变量。因此为了安全起见,要提供一个字典以充当命名空间。如下所示："
   ]
  },
  {
   "cell_type": "code",
   "execution_count": 52,
   "metadata": {},
   "outputs": [
    {
     "ename": "TypeError",
     "evalue": "'int' object is not callable",
     "output_type": "error",
     "traceback": [
      "\u001b[0;31m---------------------------------------------------------------------------\u001b[0m",
      "\u001b[0;31mTypeError\u001b[0m                                 Traceback (most recent call last)",
      "\u001b[0;32m<ipython-input-52-e5195e7a2096>\u001b[0m in \u001b[0;36m<module>\u001b[0;34m()\u001b[0m\n\u001b[1;32m      1\u001b[0m \u001b[0;32mfrom\u001b[0m \u001b[0mmath\u001b[0m \u001b[0;32mimport\u001b[0m \u001b[0msqrt\u001b[0m\u001b[0;34m\u001b[0m\u001b[0m\n\u001b[1;32m      2\u001b[0m \u001b[0mexec\u001b[0m\u001b[0;34m(\u001b[0m\u001b[0;34m\"sqrt = 1\"\u001b[0m\u001b[0;34m)\u001b[0m\u001b[0;34m\u001b[0m\u001b[0m\n\u001b[0;32m----> 3\u001b[0;31m \u001b[0msqrt\u001b[0m\u001b[0;34m(\u001b[0m\u001b[0;36m4\u001b[0m\u001b[0;34m)\u001b[0m\u001b[0;34m\u001b[0m\u001b[0m\n\u001b[0m",
      "\u001b[0;31mTypeError\u001b[0m: 'int' object is not callable"
     ]
    }
   ],
   "source": [
    "from math import sqrt\n",
    "exec(\"sqrt = 1\")\n",
    "sqrt(4)"
   ]
  },
  {
   "cell_type": "markdown",
   "metadata": {},
   "source": [
    "可向 exec 提供两个命名空间:一个全局的和一个局部的。提供的全局命名空间必须是字典,而提供的局部命名空间可以是任何映射。这一点也适用于 eval 。添加第二个参数——字典,用作代码字符串的命名空间。如下所示："
   ]
  },
  {
   "cell_type": "code",
   "execution_count": 53,
   "metadata": {},
   "outputs": [
    {
     "name": "stdout",
     "output_type": "stream",
     "text": [
      "2.0\n",
      "1\n"
     ]
    }
   ],
   "source": [
    "from math import sqrt\n",
    "scope = {}\n",
    "exec('sqrt = 1', scope)\n",
    "print(sqrt(4))\n",
    "print(scope['sqrt'])   #通过 exec 执行赋值语句创建的变量位于 scope 中"
   ]
  },
  {
   "cell_type": "markdown",
   "metadata": {},
   "source": [
    "**eval** <br>\n",
    "eval 是一个类似于 exec 的内置函数。 exec 执行一系列Python语句,而 eval 计算用字符串表示的Python表达式的值,并返回结果( exec 什么都不返回,因为它本身是条语句)。与 exec 一样,也可向 eval 提供一个命名空间,虽然表达式通常不会像语句那样给变量重新赋值。"
   ]
  },
  {
   "cell_type": "code",
   "execution_count": 54,
   "metadata": {},
   "outputs": [
    {
     "name": "stdout",
     "output_type": "stream",
     "text": [
      "请输入一个公式：(1+2)*3\n"
     ]
    },
    {
     "data": {
      "text/plain": [
       "9"
      ]
     },
     "execution_count": 54,
     "metadata": {},
     "output_type": "execute_result"
    }
   ],
   "source": [
    "eval(input(\"请输入一个公式：\"))"
   ]
  }
 ],
 "metadata": {
  "kernelspec": {
   "display_name": "Python 3",
   "language": "python",
   "name": "python3"
  },
  "language_info": {
   "codemirror_mode": {
    "name": "ipython",
    "version": 3
   },
   "file_extension": ".py",
   "mimetype": "text/x-python",
   "name": "python",
   "nbconvert_exporter": "python",
   "pygments_lexer": "ipython3",
   "version": "3.6.4"
  }
 },
 "nbformat": 4,
 "nbformat_minor": 2
}

{
 "cells": [
  {
   "cell_type": "markdown",
   "metadata": {},
   "source": [
    "# 自定义函数\n",
    "函数执行特定的操作并返回一个值,你可以调用这个函数，要判断某个对象是否可调用,可使用内置函数 callable 。"
   ]
  },
  {
   "cell_type": "code",
   "execution_count": 1,
   "metadata": {},
   "outputs": [
    {
     "name": "stdout",
     "output_type": "stream",
     "text": [
      "False\n",
      "True\n"
     ]
    }
   ],
   "source": [
    "import math\n",
    "x = 1\n",
    "y = math.sqrt\n",
    "print(callable(x))\n",
    "print(callable(y))"
   ]
  },
  {
   "cell_type": "markdown",
   "metadata": {},
   "source": [
    "函数的定义使用def。"
   ]
  },
  {
   "cell_type": "code",
   "execution_count": 2,
   "metadata": {},
   "outputs": [
    {
     "name": "stdout",
     "output_type": "stream",
     "text": [
      "请输入你的名字：Tony\n",
      "hello Tony\n"
     ]
    }
   ],
   "source": [
    "def hello(name):\n",
    "    print(\"hello \"+name)\n",
    "\n",
    "name = input(\"请输入你的名字：\")\n",
    "hello(name)"
   ]
  },
  {
   "cell_type": "code",
   "execution_count": 3,
   "metadata": {},
   "outputs": [
    {
     "name": "stdout",
     "output_type": "stream",
     "text": [
      "[0, 1, 1, 2, 3]\n"
     ]
    }
   ],
   "source": [
    "def fibs(num):   #返回一个斐波那契数列列表\n",
    "    result = [0, 1]\n",
    "    for i in range(num-2):\n",
    "        result.append(result[-2] + result[-1])\n",
    "    return result\n",
    "\n",
    "print(fibs(5))"
   ]
  },
  {
   "cell_type": "markdown",
   "metadata": {},
   "source": [
    "### 给函数编写文档\n",
    "要给函数编写文档,以确保其他人能够理解,可添加注释(以#打头的内容)。还有另一种编写注释的方式,就是添加独立的字符串。在有些地方,如 def 语句后面(以及模块和类的开头),添加这样的字符串很有用。放在函数开头的字符串称为**文档字符串(docstring)**,将作为函数的一部分存储起来。"
   ]
  },
  {
   "cell_type": "code",
   "execution_count": 4,
   "metadata": {},
   "outputs": [
    {
     "data": {
      "text/plain": [
       "'这是文档字符串'"
      ]
     },
     "execution_count": 4,
     "metadata": {},
     "output_type": "execute_result"
    }
   ],
   "source": [
    "def func(name):\n",
    "    '这是文档字符串'\n",
    "    print(name)\n",
    "\n",
    "func.__doc__  "
   ]
  },
  {
   "cell_type": "code",
   "execution_count": 5,
   "metadata": {},
   "outputs": [
    {
     "name": "stdout",
     "output_type": "stream",
     "text": [
      "Help on function func in module __main__:\n",
      "\n",
      "func(name)\n",
      "    这是文档字符串\n",
      "\n"
     ]
    }
   ],
   "source": [
    "help(func)  #在交互式解释器中,可使用help获取有关函数的信息,其中包含函数的文档字符串"
   ]
  },
  {
   "cell_type": "markdown",
   "metadata": {},
   "source": [
    "### 不是函数的函数\n",
    "在Python中,有些函数什么都不返回。在诸如Pascal等的语言中,这样的函数可能另有其名(如过程),但在Python中,函数就是函数,即使它严格来说并非函数。什么都不返回的函数不包含 return 语句,或者包含 return 语句,但没有在 return 后面指定值。"
   ]
  },
  {
   "cell_type": "code",
   "execution_count": 6,
   "metadata": {},
   "outputs": [
    {
     "name": "stdout",
     "output_type": "stream",
     "text": [
      "1\n",
      "None\n"
     ]
    }
   ],
   "source": [
    "def test():\n",
    "    print(1)\n",
    "    return  \n",
    "    print(2)\n",
    "    return\n",
    "\n",
    "x = test()\n",
    "print(x)  #什么都不返回则为None"
   ]
  },
  {
   "cell_type": "markdown",
   "metadata": {},
   "source": [
    "# 参数魔法"
   ]
  },
  {
   "cell_type": "code",
   "execution_count": 7,
   "metadata": {},
   "outputs": [
    {
     "name": "stdout",
     "output_type": "stream",
     "text": [
      "['Mr. Gumby', 'Mrs. Thing']\n",
      "helloword\n"
     ]
    }
   ],
   "source": [
    "def change(n):\n",
    "    n[0] = 'Mr. Gumby'\n",
    "def func(t):\n",
    "    t = 'test'\n",
    "\n",
    "names = ['Mrs. Entity', 'Mrs. Thing']\n",
    "test = \"helloword\"\n",
    "change(names)    #列表可以被改变，形参与实参指向同一个列表\n",
    "print(names)\n",
    "func(test)    #字符串(以及数和元组)是不可变的\n",
    "print(test)"
   ]
  },
  {
   "cell_type": "markdown",
   "metadata": {},
   "source": [
    "如果你不希望传入的列表被改变，则必须创建列表的**副本**。对序列执行切片操作时,返回的切片都是副本。因此,如果你创建覆盖整个列表的切片,得到的将是列表的副本。"
   ]
  },
  {
   "cell_type": "code",
   "execution_count": 8,
   "metadata": {},
   "outputs": [
    {
     "name": "stdout",
     "output_type": "stream",
     "text": [
      "['Mrs. Entity', 'Mrs. Thing']\n"
     ]
    }
   ],
   "source": [
    "names = ['Mrs. Entity', 'Mrs. Thing']\n",
    "change(names[:])\n",
    "print(names)"
   ]
  },
  {
   "cell_type": "markdown",
   "metadata": {},
   "source": [
    "**关键字参数和默认值** <br>\n",
    "之前使用的参数都是**位置参数**,因为它们的位置至关重要——事实上比名称还重要。接下来要介绍的**关键字参数**能让你忽略位置。"
   ]
  },
  {
   "cell_type": "code",
   "execution_count": 9,
   "metadata": {},
   "outputs": [
    {
     "name": "stdout",
     "output_type": "stream",
     "text": [
      "hello,world\n"
     ]
    }
   ],
   "source": [
    "def hello(greet,name):\n",
    "    print(greet+','+name)\n",
    "    \n",
    "hello(name = 'world',greet = 'hello')"
   ]
  },
  {
   "cell_type": "code",
   "execution_count": 10,
   "metadata": {},
   "outputs": [
    {
     "name": "stdout",
     "output_type": "stream",
     "text": [
      "hello,world\n",
      "hello,Tony\n"
     ]
    }
   ],
   "source": [
    "def func(greet = 'hello',name = 'world'):   #关键字参数最大的优点在于可以指定默认值\n",
    "    print('{},{}'.format(greet,name))\n",
    "    \n",
    "func()\n",
    "func(name='Tony')"
   ]
  },
  {
   "cell_type": "markdown",
   "metadata": {},
   "source": [
    "**收集参数** <br>\n",
    "允许用户提供任意数量的参数"
   ]
  },
  {
   "cell_type": "code",
   "execution_count": 11,
   "metadata": {},
   "outputs": [
    {
     "name": "stdout",
     "output_type": "stream",
     "text": [
      "('test',)\n",
      "(1, 2, 3, 4)\n"
     ]
    }
   ],
   "source": [
    "def p(*name):   #参数前面的星号将提供的所有值都放在一个元组中,也就是将这些值收集起来\n",
    "    print(name)\n",
    "\n",
    "p(\"test\")\n",
    "p(1,2,3,4)"
   ]
  },
  {
   "cell_type": "code",
   "execution_count": 12,
   "metadata": {},
   "outputs": [
    {
     "name": "stdout",
     "output_type": "stream",
     "text": [
      "this\n",
      "('is', 'a', 'test')\n",
      "\n",
      "test\n",
      "()\n"
     ]
    }
   ],
   "source": [
    "def print_params_2(title, *params): \n",
    "    print(title)\n",
    "    print(params)\n",
    "    \n",
    "print_params_2('this','is','a','test')\n",
    "print()\n",
    "print_params_2('test')    #星号意味着收集余下的位置参数。如果没有可供收集的参数, params 将是一个空元组"
   ]
  },
  {
   "cell_type": "markdown",
   "metadata": {},
   "source": [
    "带星号的参数也可放在其他位置(而不是最后),在这种情况下需要做些额外的工作:使用名称来指定后续参数。"
   ]
  },
  {
   "cell_type": "code",
   "execution_count": 13,
   "metadata": {},
   "outputs": [
    {
     "name": "stdout",
     "output_type": "stream",
     "text": [
      "1 (2, 3, 4, 5, 6, 7) 8\n"
     ]
    }
   ],
   "source": [
    "def func(x,*y,z):\n",
    "    print(x,y,z)\n",
    "    \n",
    "func(1,2,3,4,5,6,7,z=8)"
   ]
  },
  {
   "cell_type": "markdown",
   "metadata": {},
   "source": [
    "要收集关键字参数,可使用两个星号。"
   ]
  },
  {
   "cell_type": "code",
   "execution_count": 14,
   "metadata": {},
   "outputs": [
    {
     "name": "stdout",
     "output_type": "stream",
     "text": [
      "{'x': 1, 'y': 2, 'z': 3}\n"
     ]
    }
   ],
   "source": [
    "def print_params_3(**params):\n",
    "    print(params)\n",
    "\n",
    "print_params_3(x=1,y=2,z=3)  #得到一个字典而不是元组"
   ]
  },
  {
   "cell_type": "code",
   "execution_count": 15,
   "metadata": {},
   "outputs": [
    {
     "name": "stdout",
     "output_type": "stream",
     "text": [
      "1 2 3\n",
      "(4, 5, 6, 7)\n",
      "{'key': 1, 'foo': 5}\n"
     ]
    }
   ],
   "source": [
    "def print_params_4(x, y, z=3, *pospar, **keypar):\n",
    "    print(x, y, z)\n",
    "    print(pospar)\n",
    "    print(keypar)\n",
    "    \n",
    "print_params_4(1,2,3,4,5,6,7,key=1,foo=5)"
   ]
  },
  {
   "cell_type": "code",
   "execution_count": 16,
   "metadata": {},
   "outputs": [
    {
     "name": "stdout",
     "output_type": "stream",
     "text": [
      "1 2 3\n",
      "()\n",
      "{}\n"
     ]
    }
   ],
   "source": [
    "print_params_4(1,2)"
   ]
  },
  {
   "cell_type": "markdown",
   "metadata": {},
   "source": [
    "**分配参数**"
   ]
  },
  {
   "cell_type": "code",
   "execution_count": 17,
   "metadata": {},
   "outputs": [
    {
     "name": "stdout",
     "output_type": "stream",
     "text": [
      "3\n"
     ]
    }
   ],
   "source": [
    "def add(x,y):\n",
    "    print(x+y)\n",
    "\n",
    "param = (1,2)\n",
    "add(*param)   #在调用函数时使用*来实现分配参数"
   ]
  },
  {
   "cell_type": "code",
   "execution_count": 18,
   "metadata": {},
   "outputs": [
    {
     "name": "stdout",
     "output_type": "stream",
     "text": [
      "4\n"
     ]
    }
   ],
   "source": [
    "param = {'y':3,'x':1}\n",
    "add(**param)  #这种方法也可以用于参数列表"
   ]
  },
  {
   "cell_type": "markdown",
   "metadata": {},
   "source": [
    "**练习**"
   ]
  },
  {
   "cell_type": "code",
   "execution_count": 19,
   "metadata": {},
   "outputs": [
    {
     "name": "stdout",
     "output_type": "stream",
     "text": [
      "job：king  name：tony\n",
      "\n",
      "接收剩余参数： (4, 5)\n",
      "8\n",
      "\n",
      "[0, 1, 2, 3, 4, 5, 6, 7, 8, 9]\n",
      "\n",
      "[1, 2, 3, 4]\n",
      "\n",
      "[1, 5, 9]\n"
     ]
    }
   ],
   "source": [
    "def story(**kwds):\n",
    "    return 'job：{job}  name：{name}'.format_map(kwds)\n",
    "\n",
    "def power(x, y, *others):\n",
    "    if others:\n",
    "        print('接收剩余参数：', others)\n",
    "    return pow(x, y)\n",
    "\n",
    "def interval(start, stop=None, step=1):\n",
    "    if stop is None:\n",
    "        start,stop = 0,start\n",
    "    result = []\n",
    "    i = start\n",
    "    while i < stop:\n",
    "        result.append(i)\n",
    "        i += step\n",
    "    return result\n",
    "\n",
    "print(story(job='king',name='tony'))\n",
    "print()\n",
    "print(power(2,3,4,5))\n",
    "print()\n",
    "print(interval(10))\n",
    "print()\n",
    "print(interval(1,5))\n",
    "print()\n",
    "print(interval(1,10,4))"
   ]
  },
  {
   "cell_type": "markdown",
   "metadata": {},
   "source": [
    "# 作用域\n",
    "又叫做命名空间"
   ]
  },
  {
   "cell_type": "code",
   "execution_count": 20,
   "metadata": {},
   "outputs": [
    {
     "name": "stdout",
     "output_type": "stream",
     "text": [
      "10\n"
     ]
    }
   ],
   "source": [
    "def foo():x=1\n",
    "\n",
    "x = 10\n",
    "foo()\n",
    "print(x)"
   ]
  },
  {
   "cell_type": "markdown",
   "metadata": {},
   "source": [
    "函数 foo 修改(重新关联)了变量 x ,但当你最终查看时,它根本没变。这是因为调用 foo 时创建了一个新的命名空间,供 foo 中的代码块使用。赋值语句 x = 1 是在这个内部作用域(局部命名空间)中执行的,不影响外部(全局)作用域内的 x 。在函数内使用的变量称为局部变量(与之相对的是全局变量)。参数类似于局部变量,因此参数与全局变量同名不会有任何问题。"
   ]
  },
  {
   "cell_type": "code",
   "execution_count": 21,
   "metadata": {},
   "outputs": [
    {
     "name": "stdout",
     "output_type": "stream",
     "text": [
      "1\n"
     ]
    }
   ],
   "source": [
    "def func(x):print(x)\n",
    "    \n",
    "x=2\n",
    "y=1\n",
    "func(y)"
   ]
  },
  {
   "cell_type": "code",
   "execution_count": 22,
   "metadata": {},
   "outputs": [
    {
     "name": "stdout",
     "output_type": "stream",
     "text": [
      "10\n"
     ]
    }
   ],
   "source": [
    "def output():print(external)   #在函数中访问全局变量\n",
    "    \n",
    "external = 10\n",
    "output()"
   ]
  },
  {
   "cell_type": "code",
   "execution_count": 23,
   "metadata": {},
   "outputs": [
    {
     "name": "stdout",
     "output_type": "stream",
     "text": [
      "hello;world\n"
     ]
    }
   ],
   "source": [
    "def test(tmp):print(tmp+';'+globals()['tmp'])  #使用globals()访问全局变量，解决覆盖问题\n",
    "\n",
    "tmp = 'world'\n",
    "test('hello')"
   ]
  },
  {
   "cell_type": "markdown",
   "metadata": {},
   "source": [
    "**重新关联**全局变量(使其指向新值)是另一码事。在函数内部给变量赋值时,该变量默认为局部变量,除非明确地告诉Python它是全局变量。"
   ]
  },
  {
   "cell_type": "code",
   "execution_count": 24,
   "metadata": {},
   "outputs": [
    {
     "data": {
      "text/plain": [
       "2"
      ]
     },
     "execution_count": 24,
     "metadata": {},
     "output_type": "execute_result"
    }
   ],
   "source": [
    "def change_global():\n",
    "    global x\n",
    "    x += 1\n",
    "\n",
    "x = 1\n",
    "change_global()\n",
    "x"
   ]
  },
  {
   "cell_type": "markdown",
   "metadata": {},
   "source": [
    "**作用域嵌套** <br>\n",
    "嵌套通常用处不大,但有一个很突出的用途:使用一个函数来创建另一个函数。"
   ]
  },
  {
   "cell_type": "code",
   "execution_count": 25,
   "metadata": {},
   "outputs": [
    {
     "name": "stdout",
     "output_type": "stream",
     "text": [
      "10\n",
      "6\n"
     ]
    }
   ],
   "source": [
    "def multiplier(factor):\n",
    "    def multiplyByFactor(number):\n",
    "        return number * factor\n",
    "    return multiplyByFactor\n",
    "\n",
    "r1 = multiplier(5)\n",
    "print(r1(2))\n",
    "print(multiplier(3)(2))"
   ]
  },
  {
   "cell_type": "markdown",
   "metadata": {},
   "source": [
    "在这里,一个函数位于另一个函数中,且外面的函数返回里面的函数。也就是返回一个函数,而不是调用它。重要的是,返回的函数能够访问其定义所在的作用域。换而言之,它携带着自己所在的环境(和相关的局部变量)!每当外部函数被调用时,都将重新定义内部的函数,而变量 factor 的值也可能不同。由于Python的嵌套作用域,可在内部函数中访问这个来自外部局部作用域( multiplier )的变量。<br>\n",
    "像 multiplyByFactor 这样存储其所在作用域的函数称为**闭包**。通常,不能给外部作用域内的变量赋值,但如果一定要这样做,可使用关键字 nonlocal 。这个关键字的用法与 global 很像,让你能够给外部作用域(非全局作用域)内的变量赋值。"
   ]
  },
  {
   "cell_type": "markdown",
   "metadata": {},
   "source": [
    "# 递归"
   ]
  },
  {
   "cell_type": "markdown",
   "metadata": {},
   "source": [
    "### 阶乘和幂\n",
    "两个经典的递归函数。"
   ]
  },
  {
   "cell_type": "code",
   "execution_count": 26,
   "metadata": {},
   "outputs": [
    {
     "name": "stdout",
     "output_type": "stream",
     "text": [
      "5的阶乘：120\n",
      "2的3次方：8\n"
     ]
    }
   ],
   "source": [
    "def factorial(n):\n",
    "    if n == 1:\n",
    "        return 1\n",
    "    else:\n",
    "        return n * factorial(n - 1)\n",
    "\n",
    "def pw(x,n):\n",
    "    if n == 0:\n",
    "        return 1\n",
    "    else:\n",
    "        return x * pw(x,n-1)\n",
    "\n",
    "print(\"5的阶乘：\"+str(factorial(5)))\n",
    "print(\"2的3次方：\"+str(pw(2,3)))"
   ]
  },
  {
   "cell_type": "markdown",
   "metadata": {},
   "source": [
    "### 二分查找"
   ]
  },
  {
   "cell_type": "code",
   "execution_count": 27,
   "metadata": {},
   "outputs": [
    {
     "name": "stdout",
     "output_type": "stream",
     "text": [
      "3\n"
     ]
    }
   ],
   "source": [
    "def search(sequence, number, lower=0, upper=None):\n",
    "    if upper is None:\n",
    "        upper=len(sequence)-1\n",
    "    if lower == upper:\n",
    "        assert number == sequence[upper]\n",
    "        return upper\n",
    "    else:\n",
    "        middle = (lower + upper) // 2\n",
    "        if number > sequence[middle]:\n",
    "            return search(sequence, number, middle + 1, upper)\n",
    "        else:\n",
    "            return search(sequence, number, lower, middle)\n",
    "\n",
    "seq=[1,23,34,35,67,68,89,102]\n",
    "print(search(seq,35))\n",
    "\n",
    "#实际上,模块 bisect 提供了标准的二分查找实现"
   ]
  }
 ],
 "metadata": {
  "kernelspec": {
   "display_name": "Python 3",
   "language": "python",
   "name": "python3"
  },
  "language_info": {
   "codemirror_mode": {
    "name": "ipython",
    "version": 3
   },
   "file_extension": ".py",
   "mimetype": "text/x-python",
   "name": "python",
   "nbconvert_exporter": "python",
   "pygments_lexer": "ipython3",
   "version": "3.6.4"
  }
 },
 "nbformat": 4,
 "nbformat_minor": 2
}

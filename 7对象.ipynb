{
 "cells": [
  {
   "cell_type": "markdown",
   "metadata": {},
   "source": [
    "# 对象\n",
    "在面向对象编程中,术语对象大致意味着一系列数据(属性)以及一套访问和操作这些数据的方法。使用对象而非全局变量和函数的原因有多个,下面列出了使用对象的最重要的好处。\n",
    "* **多态**:可对不同类型的对象执行相同的操作,而这些操作就像“被施了魔法”一样能够正常运行。\n",
    "* **封装**:对外部隐藏有关对象工作原理的细节。\n",
    "* **继承**:可基于通用类创建出专用类。"
   ]
  },
  {
   "cell_type": "markdown",
   "metadata": {},
   "source": [
    "### 多态和方法\n",
    "即便你不知道变量指向的是哪种对象,也能够对其执行操作,且操作的行为将随对象所属的类型(类)而异。<br>\n",
    "**object.get_price()** <br>\n",
    "像这样与对象属性相关联的函数称为方法。"
   ]
  },
  {
   "cell_type": "code",
   "execution_count": 1,
   "metadata": {},
   "outputs": [
    {
     "data": {
      "text/plain": [
       "1"
      ]
     },
     "execution_count": 1,
     "metadata": {},
     "output_type": "execute_result"
    }
   ],
   "source": [
    "'abc'.count('a')"
   ]
  },
  {
   "cell_type": "code",
   "execution_count": 2,
   "metadata": {},
   "outputs": [
    {
     "data": {
      "text/plain": [
       "1"
      ]
     },
     "execution_count": 2,
     "metadata": {},
     "output_type": "execute_result"
    }
   ],
   "source": [
    "[1, 2, 'a'].count('a')"
   ]
  },
  {
   "cell_type": "markdown",
   "metadata": {},
   "source": [
    "如果有一个变量 x ,你无需知道它是字符串还是列表就能调用方法 count :只要你向这个方法提供一个字符作为参数,它就能正常运行。"
   ]
  },
  {
   "cell_type": "code",
   "execution_count": 3,
   "metadata": {},
   "outputs": [
    {
     "data": {
      "text/plain": [
       "2"
      ]
     },
     "execution_count": 3,
     "metadata": {},
     "output_type": "execute_result"
    }
   ],
   "source": [
    "from random import choice\n",
    "x = choice(['Hello, world!', [1, 2, 'e', 'e', 4]])\n",
    "x.count('e')   #不用检查x是字符串还是列表"
   ]
  },
  {
   "cell_type": "markdown",
   "metadata": {},
   "source": [
    "**多态形式多样** <br>\n",
    "每当无需知道对象是什么样的就能对其执行操作时,都是多态在起作用。这不仅仅适用于方法,内置运算符和函数也大量使用了多态。"
   ]
  },
  {
   "cell_type": "code",
   "execution_count": 4,
   "metadata": {},
   "outputs": [
    {
     "data": {
      "text/plain": [
       "2"
      ]
     },
     "execution_count": 4,
     "metadata": {},
     "output_type": "execute_result"
    }
   ],
   "source": [
    "1+1"
   ]
  },
  {
   "cell_type": "code",
   "execution_count": 5,
   "metadata": {},
   "outputs": [
    {
     "data": {
      "text/plain": [
       "'hello world!'"
      ]
     },
     "execution_count": 5,
     "metadata": {},
     "output_type": "execute_result"
    }
   ],
   "source": [
    "\"hello \"+\"world!\""
   ]
  },
  {
   "cell_type": "markdown",
   "metadata": {},
   "source": [
    "上述代码表明,加法运算符( + )既可用于数(这里是整数),也可用于字符串(以及其他类型的序列)。"
   ]
  },
  {
   "cell_type": "code",
   "execution_count": 6,
   "metadata": {},
   "outputs": [
    {
     "name": "stdout",
     "output_type": "stream",
     "text": [
      "'test'的长度是4\n"
     ]
    }
   ],
   "source": [
    "def length_message(x):\n",
    "    print(repr(x)+\"的长度是\"+str(len(x)))    #repr 是多态的集大成者之一,可用于任何对象\n",
    "\n",
    "length_message('test')"
   ]
  },
  {
   "cell_type": "markdown",
   "metadata": {},
   "source": [
    "### 封装\n",
    "**封装(encapsulation)**指的是向外部隐藏不必要的细节。封装不同于多态。多态让你无需知道对象所属的类(对象的类型)就能调用其方法,而封装让你无需知道对象的构造就能使用它。基本上,你希望对象是抽象的:当调用方法时,无需操心其他的事情,如避免干扰全局变量。因此，我们需要将变量封装在对象中，将其作为一个**属性**即可。属性是归属于对象的变量,就像方法一样。实际上,方法差不多就是与函数相关联的属性。"
   ]
  },
  {
   "cell_type": "markdown",
   "metadata": {},
   "source": [
    "### 继承\n",
    "程序员总是想避免多次输入同样的代码。如果你已经有了一个类,并要创建一个与之很像的类(可能只是新增了几个方法)，创建这个新类时,你不想复制旧类的代码,将其粘贴到新类中。此时可以使用继承。"
   ]
  },
  {
   "cell_type": "markdown",
   "metadata": {},
   "source": [
    "# 类"
   ]
  },
  {
   "cell_type": "markdown",
   "metadata": {},
   "source": [
    "### 什么是类\n",
    "类的定义————————一种对象。每个对象都**属于**特定的类,并被称为该类的**实例**。"
   ]
  },
  {
   "cell_type": "markdown",
   "metadata": {},
   "source": [
    "### 创建自定义类"
   ]
  },
  {
   "cell_type": "code",
   "execution_count": 7,
   "metadata": {},
   "outputs": [
    {
     "name": "stdout",
     "output_type": "stream",
     "text": [
      "Tony\n",
      "Hello, world! 我是Tony.\n"
     ]
    },
    {
     "data": {
      "text/plain": [
       "'Tony'"
      ]
     },
     "execution_count": 7,
     "metadata": {},
     "output_type": "execute_result"
    }
   ],
   "source": [
    "class Person:\n",
    "    def set_name(self, name):  #self指向对象本身，第一个参数也可以随便命名，但一般命名为self\n",
    "        self.name = name    #如果没有self参数，所有的方法都无法访问对象本身\n",
    "    def get_name(self):\n",
    "        return self.name\n",
    "    def greet(self):\n",
    "        print(\"Hello, world! 我是{}.\".format(self.name))\n",
    "        \n",
    "p = Person()\n",
    "p.set_name('Tony')\n",
    "print(p.get_name())\n",
    "p.greet()\n",
    "p.name   #可以从外部访问这些属性"
   ]
  },
  {
   "cell_type": "markdown",
   "metadata": {},
   "source": [
    "### 属性、函数和方法\n",
    "方法和函数的区别表现在参数 self 上。方法(更准确地说是**关联**的方法)将其第一个参数关联到它所属的实例,因此无需提供这个参数。无疑可以将属性关联到一个普通函数,但这样就没有特殊的 self 参数了。"
   ]
  },
  {
   "cell_type": "code",
   "execution_count": 8,
   "metadata": {},
   "outputs": [
    {
     "name": "stdout",
     "output_type": "stream",
     "text": [
      "****\n",
      "####\n"
     ]
    }
   ],
   "source": [
    "class Test():\n",
    "    def method(self):\n",
    "        print(\"****\")\n",
    "\n",
    "def function():\n",
    "    print(\"####\")\n",
    "    \n",
    "\n",
    "t = Test()\n",
    "t.method()\n",
    "t.method = function\n",
    "t.method()      #有没有参数 self 并不取决于是否以刚才使用的方式(如 t.method )调用方法"
   ]
  },
  {
   "cell_type": "code",
   "execution_count": 9,
   "metadata": {},
   "outputs": [
    {
     "name": "stdout",
     "output_type": "stream",
     "text": [
      "汪汪！\n"
     ]
    }
   ],
   "source": [
    "class Dog():\n",
    "    sound='汪汪！'\n",
    "    def bark(self):\n",
    "        print(self.sound)\n",
    "        \n",
    "d = Dog()\n",
    "t = d.bark\n",
    "t()  #此方法调用看起来很像函数调用,但变量t指向的是关联的方法d.bark ,这意味着它也能够访问参数 self (即它也被关联到类的实例)"
   ]
  },
  {
   "cell_type": "markdown",
   "metadata": {},
   "source": [
    "### 隐藏\n",
    "默认情况下,可从外部访问对象的属性。有些程序员认为这违反了封装原则，他们认为应该对外部**完全隐藏**对象的状态(即不能从外部访问它们)。为避免这类问题,可将属性定义为**私有**。私有属性不能从对象外部访问,而只能通过**存取器**方法(如 get_name 和 set_name )来访问。要让方法或属性成为私有的(不能从外部访问),只需让其名称以两个下划线打头即可。"
   ]
  },
  {
   "cell_type": "code",
   "execution_count": 10,
   "metadata": {},
   "outputs": [
    {
     "ename": "AttributeError",
     "evalue": "'Secretive' object has no attribute '__inaccessible'",
     "output_type": "error",
     "traceback": [
      "\u001b[0;31m---------------------------------------------------------------------------\u001b[0m",
      "\u001b[0;31mAttributeError\u001b[0m                            Traceback (most recent call last)",
      "\u001b[0;32m<ipython-input-10-1ebe550a414b>\u001b[0m in \u001b[0;36m<module>\u001b[0;34m()\u001b[0m\n\u001b[1;32m      8\u001b[0m \u001b[0;34m\u001b[0m\u001b[0m\n\u001b[1;32m      9\u001b[0m \u001b[0ms\u001b[0m \u001b[0;34m=\u001b[0m \u001b[0mSecretive\u001b[0m\u001b[0;34m(\u001b[0m\u001b[0;34m)\u001b[0m\u001b[0;34m\u001b[0m\u001b[0m\n\u001b[0;32m---> 10\u001b[0;31m \u001b[0ms\u001b[0m\u001b[0;34m.\u001b[0m\u001b[0m__inaccessible\u001b[0m\u001b[0;34m(\u001b[0m\u001b[0;34m)\u001b[0m  \u001b[0;31m#现在从外部不能访问 __inaccessible ,但在类中(如 accessible 中)依然可以使用它\u001b[0m\u001b[0;34m\u001b[0m\u001b[0m\n\u001b[0m",
      "\u001b[0;31mAttributeError\u001b[0m: 'Secretive' object has no attribute '__inaccessible'"
     ]
    }
   ],
   "source": [
    "class Secretive:\n",
    "    def __inaccessible(self):\n",
    "        print(\"****\")\n",
    "    def accessible(self):\n",
    "        print(\"####\")\n",
    "        self.__inaccessible()\n",
    "        \n",
    "        \n",
    "s = Secretive()\n",
    "s.__inaccessible()  #现在从外部不能访问 __inaccessible ,但在类中(如 accessible 中)依然可以使用它"
   ]
  },
  {
   "cell_type": "code",
   "execution_count": 11,
   "metadata": {},
   "outputs": [
    {
     "name": "stdout",
     "output_type": "stream",
     "text": [
      "####\n",
      "****\n"
     ]
    }
   ],
   "source": [
    "s.accessible()"
   ]
  },
  {
   "cell_type": "markdown",
   "metadata": {},
   "source": [
    "这样的方法类似于其他语言中的标准私有方法。然而,幕后的处理手法并不标准:在类定义中,对所有以两个下划线打头的名称都进行转换,即在开头加上一个下划线和类名。如下所示："
   ]
  },
  {
   "cell_type": "code",
   "execution_count": 12,
   "metadata": {},
   "outputs": [
    {
     "name": "stdout",
     "output_type": "stream",
     "text": [
      "****\n"
     ]
    }
   ],
   "source": [
    "s._Secretive__inaccessible()  #这样可以访问私有方法，但不应该这样做"
   ]
  },
  {
   "cell_type": "markdown",
   "metadata": {},
   "source": [
    "### 类的命名空间\n",
    "以下两条语句大致等价：<br>\n",
    "def foo(x): return x \\* x <br>\n",
    "foo = lambda x: x \\* x  <br>\n",
    "它们都创建一个返回参数平方的函数,并将这个函数关联到变量 foo 。可以在全局(模块)作用域内定义名称 foo ,也可以在函数或方法内定义。定义类时情况亦如此:在 class 语句中定义的代码都是在一个特殊的命名空间(**类的命名空间**)内执行的,而类的所有成员都可访问这个命名空间。类定义其实就是要执行的代码段。"
   ]
  },
  {
   "cell_type": "code",
   "execution_count": 13,
   "metadata": {},
   "outputs": [
    {
     "name": "stdout",
     "output_type": "stream",
     "text": [
      "This is a test!\n"
     ]
    }
   ],
   "source": [
    "class C:    #在类定义中,并非只能包含 def 语句\n",
    "    print(\"This is a test!\")    "
   ]
  },
  {
   "cell_type": "code",
   "execution_count": 14,
   "metadata": {},
   "outputs": [
    {
     "name": "stdout",
     "output_type": "stream",
     "text": [
      "1\n",
      "2\n"
     ]
    }
   ],
   "source": [
    "class MemberCounter:\n",
    "    members = 0\n",
    "    def init(self):\n",
    "        MemberCounter.members += 1\n",
    "        \n",
    "m = MemberCounter()\n",
    "m.init()\n",
    "print(MemberCounter.members)\n",
    "\n",
    "mm = MemberCounter()\n",
    "mm.init()\n",
    "print(MemberCounter.members)"
   ]
  },
  {
   "cell_type": "markdown",
   "metadata": {},
   "source": [
    "上述代码在类作用域内定义了一个变量,所有的成员(实例)都可访问它,这里使用它来计算类实例的数量,这里使用了 init 来初始化所有实例。"
   ]
  },
  {
   "cell_type": "code",
   "execution_count": 15,
   "metadata": {},
   "outputs": [
    {
     "name": "stdout",
     "output_type": "stream",
     "text": [
      "2\n",
      "2\n"
     ]
    }
   ],
   "source": [
    "print(m.members)\n",
    "print(mm.members)    #每个实例都可访问这个类作用域内的变量,就像方法一样"
   ]
  },
  {
   "cell_type": "code",
   "execution_count": 16,
   "metadata": {},
   "outputs": [
    {
     "name": "stdout",
     "output_type": "stream",
     "text": [
      "Test\n",
      "2\n"
     ]
    }
   ],
   "source": [
    "m.members = 'Test'\n",
    "print(m.members)\n",
    "print(mm.members)  #新值被写入m的一个属性中,这个属性遮住了类级变量。这类似于“遮盖的问题”所讨论的,函数中局部变量和全局变量之间的关系"
   ]
  },
  {
   "cell_type": "markdown",
   "metadata": {},
   "source": [
    "### 指定超类\n",
    "子类扩展了超类的定义。要指定超类,可在 class 语句中的类名后加上超类名,并将其用圆括号括起。"
   ]
  },
  {
   "cell_type": "code",
   "execution_count": 17,
   "metadata": {},
   "outputs": [
    {
     "name": "stdout",
     "output_type": "stream",
     "text": [
      "['a', 'b', 'c', 'd']\n",
      "['g', 'd', 'r']\n"
     ]
    }
   ],
   "source": [
    "class Filter:   #Filter 类的用途在于可用作其他类(如将 'SPAM' 从序列中过滤掉的 SPAMFilter 类)的基类(超类)\n",
    "    def init(self):\n",
    "        self.blocked = []\n",
    "    def filter(self, sequence):\n",
    "        return [x for x in sequence if x not in self.blocked]\n",
    "    \n",
    "class SPAMFilter(Filter): # SPAMFilter是Filter的子类\n",
    "    def init(self): # 重写超类Filter的方法init\n",
    "        self.blocked = ['SPAM']\n",
    "        \n",
    "f1 = Filter()\n",
    "f1.init()\n",
    "print(f1.filter(['a','b','c','d']))\n",
    "\n",
    "f2 = SPAMFilter()\n",
    "f2.init()\n",
    "print(f2.filter(['SPAM','g','d','SPAM','r','SPAM']))"
   ]
  },
  {
   "cell_type": "markdown",
   "metadata": {},
   "source": [
    "SPAMFilter 类的定义中有两个要点。\n",
    "* 以提供新定义的方式重写了 Filter 类中方法 init 的定义。\n",
    "* 直接从 Filter 类继承了方法 filter 的定义,因此无需重新编写其定义。\n",
    "第二点说明了继承很有用的原因:可以创建大量不同的过滤器类,它们都从 Filter 类派生而来,并且都使用已编写好的方法 filter 。这就是懒惰的好处。"
   ]
  },
  {
   "cell_type": "markdown",
   "metadata": {},
   "source": [
    "### 深入探讨继承\n",
    "要确定一个类是否是另一个类的子类,可使用内置方法 issubclass 。"
   ]
  },
  {
   "cell_type": "code",
   "execution_count": 18,
   "metadata": {},
   "outputs": [
    {
     "data": {
      "text/plain": [
       "True"
      ]
     },
     "execution_count": 18,
     "metadata": {},
     "output_type": "execute_result"
    }
   ],
   "source": [
    "issubclass(SPAMFilter, Filter)"
   ]
  },
  {
   "cell_type": "code",
   "execution_count": 19,
   "metadata": {},
   "outputs": [
    {
     "data": {
      "text/plain": [
       "False"
      ]
     },
     "execution_count": 19,
     "metadata": {},
     "output_type": "execute_result"
    }
   ],
   "source": [
    "issubclass(Filter, SPAMFilter)"
   ]
  },
  {
   "cell_type": "markdown",
   "metadata": {},
   "source": [
    "如果你想知道一个类的基类,可访问其特殊属性 \\_\\_bases\\_\\_ 。"
   ]
  },
  {
   "cell_type": "code",
   "execution_count": 20,
   "metadata": {},
   "outputs": [
    {
     "data": {
      "text/plain": [
       "__main__.Filter"
      ]
     },
     "execution_count": 20,
     "metadata": {},
     "output_type": "execute_result"
    }
   ],
   "source": [
    "SPAMFilter.__base__"
   ]
  },
  {
   "cell_type": "code",
   "execution_count": 21,
   "metadata": {},
   "outputs": [
    {
     "data": {
      "text/plain": [
       "object"
      ]
     },
     "execution_count": 21,
     "metadata": {},
     "output_type": "execute_result"
    }
   ],
   "source": [
    "Filter.__base__"
   ]
  },
  {
   "cell_type": "markdown",
   "metadata": {},
   "source": [
    "要确定对象是否是特定类的实例,可使用 isinstance 。"
   ]
  },
  {
   "cell_type": "code",
   "execution_count": 22,
   "metadata": {},
   "outputs": [
    {
     "name": "stdout",
     "output_type": "stream",
     "text": [
      "True\n",
      "True\n",
      "False\n"
     ]
    }
   ],
   "source": [
    "s = SPAMFilter()\n",
    "print(isinstance(s,SPAMFilter))\n",
    "print(isinstance(s,Filter))\n",
    "print(isinstance(s,str))"
   ]
  },
  {
   "cell_type": "markdown",
   "metadata": {},
   "source": [
    "**注意** 使用 isinstance 通常不是良好的做法,依赖多态在任何情况下都是更好的选择。一个重要的例外情况是使用抽象基类和模块 abc 时。<br><br>\n",
    "s 是 SPAMFilter 类的(直接)实例,但它也是 Filter 类的间接实例,因为 SPAMFilter是 Filter 的子类。换而言之,所有 SPAMFilter 对象都是 Filter 对象。从前一个示例可知, isinstance也可用于类型,如字符串类型( str )。"
   ]
  },
  {
   "cell_type": "code",
   "execution_count": 23,
   "metadata": {},
   "outputs": [
    {
     "data": {
      "text/plain": [
       "__main__.SPAMFilter"
      ]
     },
     "execution_count": 23,
     "metadata": {},
     "output_type": "execute_result"
    }
   ],
   "source": [
    "s.__class__    #获悉对象属于哪个类"
   ]
  },
  {
   "cell_type": "code",
   "execution_count": 24,
   "metadata": {},
   "outputs": [
    {
     "data": {
      "text/plain": [
       "__main__.SPAMFilter"
      ]
     },
     "execution_count": 24,
     "metadata": {},
     "output_type": "execute_result"
    }
   ],
   "source": [
    "type(s)"
   ]
  },
  {
   "cell_type": "markdown",
   "metadata": {},
   "source": [
    "### 多个超类"
   ]
  },
  {
   "cell_type": "code",
   "execution_count": 25,
   "metadata": {},
   "outputs": [
    {
     "name": "stdout",
     "output_type": "stream",
     "text": [
      "self.value: 2\n"
     ]
    }
   ],
   "source": [
    "class Calculator:\n",
    "    def calculate(self, expression):\n",
    "        self.value = eval(expression)    #eval(str)将字符串str当成有效的表达式来求值并返回计算结果\n",
    "        \n",
    "class Talker:\n",
    "    def talk(self):\n",
    "        print('self.value:', self.value)\n",
    "        \n",
    "class TalkingCalculator(Calculator, Talker):  #本身无所作为，所有功能从超类那里继承\n",
    "    pass\n",
    "\n",
    "tc = TalkingCalculator()\n",
    "tc.calculate('1+1')\n",
    "tc.talk()"
   ]
  },
  {
   "cell_type": "markdown",
   "metadata": {},
   "source": [
    "这被称为**多重继承**,是一个功能强大的工具。然而,应避免使用多重继承,因为在有些情况下,它可能带来意外。使用多重继承时,有一点务必注意:如果多个超类以不同的方式实现了同一个方法(即有多个同名方法),必须在 class 语句中小心排列这些超类,因为位于前面的类的方法将覆盖位于后面的类的方法。因此,在前面的示例中,如果 Calculator 类包含方法 talk ,那么这个方法将覆盖 Talker类的方法 talk (导致它不可访问)。<br>\n",
    "如果像下面这样交换超类，将导致Talker的talk方法可以访问，而Calculator的talk方法不能访问：<br>\n",
    "class TalkingCalculator(Talker, Calculator): pass<br>\n",
    "多个超类的超类相同时,查找特定方法或属性时访问超类的顺序称为**方法解析顺序(MRO)**。"
   ]
  },
  {
   "cell_type": "markdown",
   "metadata": {},
   "source": [
    "### 接口和内省\n",
    "接口这一概念与多态相关。处理多态对象时,只关心其接口(协议)————————对外暴露的方法和属性。通常,你要求对象遵循特定的接口(即实现特定的方法),但如果需要,也可非常灵活地提出要求:不是直接调用方法并期待一切顺利,而是检查所需的方法是否存在。如下所示："
   ]
  },
  {
   "cell_type": "code",
   "execution_count": 26,
   "metadata": {},
   "outputs": [
    {
     "data": {
      "text/plain": [
       "True"
      ]
     },
     "execution_count": 26,
     "metadata": {},
     "output_type": "execute_result"
    }
   ],
   "source": [
    "hasattr(tc, 'talk')  #tc实例中包含了talk属性"
   ]
  },
  {
   "cell_type": "code",
   "execution_count": 27,
   "metadata": {},
   "outputs": [
    {
     "data": {
      "text/plain": [
       "False"
      ]
     },
     "execution_count": 27,
     "metadata": {},
     "output_type": "execute_result"
    }
   ],
   "source": [
    "hasattr(tc, 'test')  #tc实例中没有包含test属性"
   ]
  },
  {
   "cell_type": "code",
   "execution_count": 28,
   "metadata": {},
   "outputs": [
    {
     "data": {
      "text/plain": [
       "True"
      ]
     },
     "execution_count": 28,
     "metadata": {},
     "output_type": "execute_result"
    }
   ],
   "source": [
    "callable(getattr(tc, 'talk', None)) #使用 getattr() 能够指定属性不存在时使用的默认值,这里为 None "
   ]
  },
  {
   "cell_type": "code",
   "execution_count": 29,
   "metadata": {},
   "outputs": [
    {
     "data": {
      "text/plain": [
       "False"
      ]
     },
     "execution_count": 29,
     "metadata": {},
     "output_type": "execute_result"
    }
   ],
   "source": [
    "callable(getattr(tc, 'test', None))  #对getattr()返回的对象调用callable"
   ]
  },
  {
   "cell_type": "markdown",
   "metadata": {},
   "source": [
    "**注意** setattr 与 getattr 功能相反,可用于设置对象的属性，如下所示："
   ]
  },
  {
   "cell_type": "code",
   "execution_count": 30,
   "metadata": {},
   "outputs": [
    {
     "data": {
      "text/plain": [
       "'Tony'"
      ]
     },
     "execution_count": 30,
     "metadata": {},
     "output_type": "execute_result"
    }
   ],
   "source": [
    "setattr(tc, 'name', 'Tony')\n",
    "tc.name"
   ]
  },
  {
   "cell_type": "code",
   "execution_count": 31,
   "metadata": {},
   "outputs": [
    {
     "data": {
      "text/plain": [
       "{'name': 'Tony', 'value': 2}"
      ]
     },
     "execution_count": 31,
     "metadata": {},
     "output_type": "execute_result"
    }
   ],
   "source": [
    "tc.__dict__    #检查__dict__属性查看对象中存储的所有值"
   ]
  },
  {
   "cell_type": "markdown",
   "metadata": {},
   "source": [
    "### 抽象基类\n",
    "Python引入了abc模块。这个模块为所谓的抽象基类提供了支持。一般而言,抽象类是不能(至少是不应该)实例化的类,其职责是定义子类应实现的一组抽象方法。如下所示："
   ]
  },
  {
   "cell_type": "code",
   "execution_count": 32,
   "metadata": {},
   "outputs": [],
   "source": [
    "from abc import ABC, abstractmethod\n",
    "class Talker(ABC):\n",
    "    @abstractmethod  #形如@this的东西被称为装饰器，这里使用@abstractmethod来将方法标记为抽象的——————在子类中必须实现的方法\n",
    "    def talk(self):\n",
    "        pass"
   ]
  },
  {
   "cell_type": "markdown",
   "metadata": {},
   "source": [
    "**注意** 如果使用的是较旧的Python版本,将无法在模块abc中找到ABC类。在这种情况下,需要导入ABCMeta,并在类定义开头包含代码行 \\_\\_metaclass\\_\\_ = ABCMeta (紧跟在 class 语句后面并缩进)。如果使用的是3.4之前的Python 3版本,也可使用 Talker(metaclass=ABCMeta)\n",
    "代替 Talker(ABC) 。"
   ]
  },
  {
   "cell_type": "code",
   "execution_count": 33,
   "metadata": {},
   "outputs": [
    {
     "ename": "TypeError",
     "evalue": "Can't instantiate abstract class Talker with abstract methods talk",
     "output_type": "error",
     "traceback": [
      "\u001b[0;31m---------------------------------------------------------------------------\u001b[0m",
      "\u001b[0;31mTypeError\u001b[0m                                 Traceback (most recent call last)",
      "\u001b[0;32m<ipython-input-33-498b5ddda6ac>\u001b[0m in \u001b[0;36m<module>\u001b[0;34m()\u001b[0m\n\u001b[0;32m----> 1\u001b[0;31m \u001b[0mTalker\u001b[0m\u001b[0;34m(\u001b[0m\u001b[0;34m)\u001b[0m  \u001b[0;31m#抽象类(即包含抽象方法的类)最重要的特征是不能实例化\u001b[0m\u001b[0;34m\u001b[0m\u001b[0m\n\u001b[0m",
      "\u001b[0;31mTypeError\u001b[0m: Can't instantiate abstract class Talker with abstract methods talk"
     ]
    }
   ],
   "source": [
    "Talker()  #抽象类(即包含抽象方法的类)最重要的特征是不能实例化"
   ]
  },
  {
   "cell_type": "code",
   "execution_count": 34,
   "metadata": {},
   "outputs": [
    {
     "name": "stdout",
     "output_type": "stream",
     "text": [
      "True\n",
      "Hi!\n"
     ]
    }
   ],
   "source": [
    "class Knigget1(Talker):  #可以像这样派生出一个子类，由于没有重写方法 talk ,因此这个类也是抽象的,不能实例化\n",
    "    pass\n",
    "\n",
    "class Knigget2(Talker):  #重新编写这个类实现要求的方法\n",
    "    def talk(self):\n",
    "        print(\"Hi!\")\n",
    "        \n",
    "k = Knigget2()\n",
    "print(isinstance(k,Talker)) #只有在这种情形下使用isinstance才是妥当的:如果先检查给定的实例确实是Talker对象,就能相信这个实例在需要的情况下有方法talk\n",
    "k.talk()"
   ]
  },
  {
   "cell_type": "markdown",
   "metadata": {},
   "source": [
    "我们不关心对象是什么,只关心对象能做什么(它实现了哪些方法)。因此,只要实现了方法 talk ,即便不是 Talker 的子类,依然能够通过类型检查。"
   ]
  },
  {
   "cell_type": "code",
   "execution_count": 35,
   "metadata": {},
   "outputs": [
    {
     "data": {
      "text/plain": [
       "False"
      ]
     },
     "execution_count": 35,
     "metadata": {},
     "output_type": "execute_result"
    }
   ],
   "source": [
    "class Herring:\n",
    "    def talk(self):\n",
    "        print(\"This is a test!\")\n",
    "\n",
    "h = Herring()\n",
    "isinstance(h,Talker)  #这个类的实例能够通过是否为 Talker 对象的检查,可它并不是 Talker 对象"
   ]
  },
  {
   "cell_type": "markdown",
   "metadata": {},
   "source": [
    "当然,你可从 Talker 派生出 Herring ,这样就万事大吉了,但 Herring 可能是从他人的模块中导入的。在这种情况下,就无法采取这样的做法。为解决这个问题,你可将 Herring 注册为 Talker(而不从 Herring 和 Talker 派生出子类),这样所有的 Herring 对象都将被视为 Talker 对象。如下所示："
   ]
  },
  {
   "cell_type": "code",
   "execution_count": 36,
   "metadata": {},
   "outputs": [
    {
     "data": {
      "text/plain": [
       "__main__.Herring"
      ]
     },
     "execution_count": 36,
     "metadata": {},
     "output_type": "execute_result"
    }
   ],
   "source": [
    "Talker.register(Herring)"
   ]
  },
  {
   "cell_type": "code",
   "execution_count": 37,
   "metadata": {},
   "outputs": [
    {
     "data": {
      "text/plain": [
       "True"
      ]
     },
     "execution_count": 37,
     "metadata": {},
     "output_type": "execute_result"
    }
   ],
   "source": [
    "isinstance(h, Talker)"
   ]
  },
  {
   "cell_type": "code",
   "execution_count": 38,
   "metadata": {},
   "outputs": [
    {
     "data": {
      "text/plain": [
       "True"
      ]
     },
     "execution_count": 38,
     "metadata": {},
     "output_type": "execute_result"
    }
   ],
   "source": [
    "issubclass(Herring, Talker)"
   ]
  },
  {
   "cell_type": "code",
   "execution_count": 39,
   "metadata": {},
   "outputs": [
    {
     "name": "stdout",
     "output_type": "stream",
     "text": [
      "True\n",
      "True\n"
     ]
    },
    {
     "ename": "AttributeError",
     "evalue": "'Clam' object has no attribute 'talk'",
     "output_type": "error",
     "traceback": [
      "\u001b[0;31m---------------------------------------------------------------------------\u001b[0m",
      "\u001b[0;31mAttributeError\u001b[0m                            Traceback (most recent call last)",
      "\u001b[0;32m<ipython-input-39-25e0b5183cdf>\u001b[0m in \u001b[0;36m<module>\u001b[0;34m()\u001b[0m\n\u001b[1;32m      6\u001b[0m \u001b[0mc\u001b[0m \u001b[0;34m=\u001b[0m \u001b[0mClam\u001b[0m\u001b[0;34m(\u001b[0m\u001b[0;34m)\u001b[0m\u001b[0;34m\u001b[0m\u001b[0m\n\u001b[1;32m      7\u001b[0m \u001b[0mprint\u001b[0m\u001b[0;34m(\u001b[0m\u001b[0misinstance\u001b[0m\u001b[0;34m(\u001b[0m\u001b[0mc\u001b[0m\u001b[0;34m,\u001b[0m \u001b[0mTalker\u001b[0m\u001b[0;34m)\u001b[0m\u001b[0;34m)\u001b[0m\u001b[0;34m\u001b[0m\u001b[0m\n\u001b[0;32m----> 8\u001b[0;31m \u001b[0mc\u001b[0m\u001b[0;34m.\u001b[0m\u001b[0mtalk\u001b[0m\u001b[0;34m(\u001b[0m\u001b[0;34m)\u001b[0m     \u001b[0;31m#这种做法存在一个缺点,就是直接从抽象类派生提供的保障没有了\u001b[0m\u001b[0;34m\u001b[0m\u001b[0m\n\u001b[0m",
      "\u001b[0;31mAttributeError\u001b[0m: 'Clam' object has no attribute 'talk'"
     ]
    }
   ],
   "source": [
    "class Clam:\n",
    "    pass\n",
    "\n",
    "Talker.register(Clam)\n",
    "print(issubclass(Clam, Talker))\n",
    "c = Clam()\n",
    "print(isinstance(c, Talker))\n",
    "c.talk()     #这种做法存在一个缺点,就是直接从抽象类派生提供的保障没有了"
   ]
  },
  {
   "cell_type": "markdown",
   "metadata": {},
   "source": [
    "**关于abc模块的官方文档链接如下：** <br>\n",
    "https://docs.python.org/3/library/abc.html"
   ]
  },
  {
   "cell_type": "markdown",
   "metadata": {},
   "source": [
    "### 关于面向对象设计的一些思考\n",
    "* 将相关的东西放在一起。如果一个函数操作一个全局变量,最好将它们作为一个类的属性和方法。\n",
    "* 不要让对象之间过于亲密。方法应只关心其所属实例的属性,对于其他实例的状态,让它们自己去管理就好了。\n",
    "* 慎用继承,尤其是多重继承。继承有时很有用,但在有些情况下可能带来不必要的复杂性。要正确地使用多重继承很难,要排除其中的bug更难。\n",
    "* 保持简单。让方法短小紧凑。一般而言,应确保大多数方法都能在30秒内读完并理解。对于其余的方法,尽可能将其篇幅控制在一页或一屏内。\n",
    "<br>\n",
    "确定需要哪些类以及这些类应包含哪些方法时,尝试像下面这样做。<br>\n",
    "(1) 将有关问题的描述(程序需要做什么)记录下来,并给所有的名词、动词和形容词加上标记。<br>\n",
    "(2) 在名词中找出可能的类。<br>\n",
    "(3) 在动词中找出可能的方法。<br>\n",
    "(4) 在形容词中找出可能的属性。<br>\n",
    "(5) 将找出的方法和属性分配给各个类。<br>\n",
    "有了面向对象模型的草图后,还需考虑类和对象之间的关系(如继承或协作)以及它们的职责。为进一步改进模型,可像下面这样做: <br>\n",
    "(1) 记录(或设想)一系列用例,即使用程序的场景,并尽力确保这些用例涵盖了所有的功能。 <br>\n",
    "(2) 透彻而仔细地考虑每个场景,确保模型包含了所需的一切。如果有遗漏,就加上;如果有不太对的地方,就修改。不断地重复这个过程,直到对模型满意为止。<br>\n",
    "有了你认为行之有效的模型后,就可以着手编写程序了。 <br>"
   ]
  }
 ],
 "metadata": {
  "kernelspec": {
   "display_name": "Python 3",
   "language": "python",
   "name": "python3"
  },
  "language_info": {
   "codemirror_mode": {
    "name": "ipython",
    "version": 3
   },
   "file_extension": ".py",
   "mimetype": "text/x-python",
   "name": "python",
   "nbconvert_exporter": "python",
   "pygments_lexer": "ipython3",
   "version": "3.6.4"
  }
 },
 "nbformat": 4,
 "nbformat_minor": 2
}

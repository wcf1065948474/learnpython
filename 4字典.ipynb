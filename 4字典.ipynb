{
 "cells": [
  {
   "cell_type": "markdown",
   "metadata": {},
   "source": [
    "# 字典的用途\n",
    "需要将一系列值组合成数据结构并通过编号来访问各个值时,列表很有用。这里介绍一种可通过名称来访问其各个值的数据结构。这种数据结构称为**映射（mapping）**。字典是Python中唯一的内置映射类型,其中的值不按顺序排列,而是存储在键下。键可能是数、字符串或元组。<br>\n",
    "以下是Python字典的一些用途：\n",
    "* 表示棋盘的状态,其中每个键都是由坐标组成的元组;<br>\n",
    "* 存储文件修改时间,其中的键为文件名;<br>\n",
    "* 数字电话/地址簿;"
   ]
  },
  {
   "cell_type": "markdown",
   "metadata": {},
   "source": [
    "# 创建和使用字典\n",
    "字典由键及其相应的值组成,这种键-值对称为项(item)。<br>\n",
    "**注意** 在字典(以及其他映射类型)中,键必须是独一无二的,而字典中的值无需如此。"
   ]
  },
  {
   "cell_type": "code",
   "execution_count": 1,
   "metadata": {},
   "outputs": [
    {
     "data": {
      "text/plain": [
       "'3258'"
      ]
     },
     "execution_count": 1,
     "metadata": {},
     "output_type": "execute_result"
    }
   ],
   "source": [
    "phonebook = {'Alice': '2341', 'Beth': '9102', 'Cecil': '3258'}\n",
    "phonebook['Cecil']"
   ]
  },
  {
   "cell_type": "markdown",
   "metadata": {},
   "source": [
    "### 函数 dict\n",
    "可使用函数 dict 从其他映射(如其他字典)或键-值对序列创建字典。"
   ]
  },
  {
   "cell_type": "code",
   "execution_count": 2,
   "metadata": {},
   "outputs": [
    {
     "name": "stdout",
     "output_type": "stream",
     "text": [
      "{'name': 'Gumby', 'age': 42}\n",
      "Gumby\n"
     ]
    }
   ],
   "source": [
    "items = [('name', 'Gumby'), ('age', 42)]\n",
    "d = dict(items)\n",
    "print(d)\n",
    "print(d['name'])"
   ]
  },
  {
   "cell_type": "markdown",
   "metadata": {},
   "source": [
    "或者可以使用**关键字实参**来调用这个函数,如下所示:"
   ]
  },
  {
   "cell_type": "code",
   "execution_count": 3,
   "metadata": {},
   "outputs": [
    {
     "name": "stdout",
     "output_type": "stream",
     "text": [
      "{'name': 'Gumby', 'age': 42}\n"
     ]
    }
   ],
   "source": [
    "d = dict(name='Gumby', age=42)\n",
    "print(d)"
   ]
  },
  {
   "cell_type": "markdown",
   "metadata": {},
   "source": [
    "### 基本的字典操作\n",
    "字典的基本行为在很多方面都类似于序列。<br>\n",
    "* len(d) 返回字典 d 包含的项(键-值对)数。<br>\n",
    "* d[k] 返回与键 k 相关联的值。<br>\n",
    "* d[k] = v 将值 v 关联到键 k 。<br>\n",
    "* del d[k] 删除键为 k 的项。<br>\n",
    "* k in d 检查字典 d 是否包含键为 k 的项。<br><br>\n",
    "虽然字典和列表有多个相同之处,但也有一些重要的不同之处。<br>\n",
    "* **键的类型**:字典中的键可以是整数,但并非必须是整数。字典中的键可以是任何不可变的类型,如浮点数(实数)、字符串或元组。<br>\n",
    "* **自动添加**:即便是字典中原本没有的键,也可以给它赋值,这将在字典中创建一个新项。然而,如果不使用 append 或其他类似的方法,就不能给列表中没有的元素赋值。<br>\n",
    "* **成员资格**:表达式 k in d (其中 d 是一个字典)查找的是键而不是值,而表达式 v in l (其中 l 是一个列表)查找的是值而不是索引。这看似不太一致,但你习惯后就会觉得相当自然。毕竟如果字典包含指定的键,检查相应的值就很容易。<br><br>\n",
    "**注意** 相比于检查列表是否包含指定的值,检查字典是否包含指定的键的效率更高。数据结构越大,效率差距就越大。"
   ]
  },
  {
   "cell_type": "code",
   "execution_count": 4,
   "metadata": {},
   "outputs": [
    {
     "data": {
      "text/plain": [
       "{12: 'hello world'}"
      ]
     },
     "execution_count": 4,
     "metadata": {},
     "output_type": "execute_result"
    }
   ],
   "source": [
    "x = {}\n",
    "x[12] = \"hello world\"    #在字典中添加一个新项\n",
    "x"
   ]
  },
  {
   "cell_type": "markdown",
   "metadata": {},
   "source": [
    "**字典实例：**"
   ]
  },
  {
   "cell_type": "code",
   "execution_count": 5,
   "metadata": {},
   "outputs": [
    {
     "name": "stdout",
     "output_type": "stream",
     "text": [
      "姓名：Alice\n",
      "电话号码(p)或地址(a)?p\n",
      "Alice的电话号码是2341。\n"
     ]
    }
   ],
   "source": [
    "# 一个将人名用作键的字典。每个人都用一个字典表示,\n",
    "# 字典包含键'phone'和'addr',它们分别与电话号码和地址相关联\n",
    "people = {\n",
    "    'Alice': {\n",
    "        'phone': '2341',\n",
    "        'addr': 'Foo drive 23'\n",
    "},\n",
    "    'Beth': {\n",
    "        'phone': '9102',\n",
    "        'addr': 'Bar street 42'\n",
    "},\n",
    "    'Cecil': {\n",
    "        'phone': '3158',\n",
    "        'addr': 'Baz avenue 90'\n",
    "}\n",
    "}\n",
    "# 电话号码和地址的描述性标签,供打印输出时使用\n",
    "labels = {\n",
    "    'phone': '电话号码',\n",
    "    'addr': '地址'\n",
    "}\n",
    "name = input('姓名：')\n",
    "# 要查找电话号码还是地址?\n",
    "request = input('电话号码(p)或地址(a)?')\n",
    "# 使用正确的键:\n",
    "if request == 'p':\n",
    "    key = 'phone'\n",
    "if request == 'a':\n",
    "    key = 'addr'\n",
    "# 仅当名字是字典包含的键时才打印信息:\n",
    "if name in people:\n",
    "    print(\"{}的{}是{}。\".format(name, labels[key], people[name][key]))"
   ]
  },
  {
   "cell_type": "markdown",
   "metadata": {},
   "source": [
    "### 将字符串格式设置功能用于字典\n",
    "可在字典中包含各种信息,这样只需在格式字符串中提取所需的信息即可。为此,必须使用 format_map 来指出你将通过一个映射来提供所需的信息。"
   ]
  },
  {
   "cell_type": "code",
   "execution_count": 6,
   "metadata": {},
   "outputs": [
    {
     "data": {
      "text/plain": [
       "'Alice的电话号码是2341.'"
      ]
     },
     "execution_count": 6,
     "metadata": {},
     "output_type": "execute_result"
    }
   ],
   "source": [
    "\"Alice的电话号码是{Alice}.\".format_map(phonebook)"
   ]
  },
  {
   "cell_type": "markdown",
   "metadata": {},
   "source": [
    "在模板系统中,这种字符串格式设置方式很有用(下面的示例使用的是HTML)。"
   ]
  },
  {
   "cell_type": "code",
   "execution_count": 7,
   "metadata": {},
   "outputs": [
    {
     "name": "stdout",
     "output_type": "stream",
     "text": [
      "<html>\n",
      "<head><title>Hello World!</title></head>\n",
      "<body>\n",
      "<h1>Hello World!</h1>\n",
      "<p>这是一个测试！</p>\n",
      "</body>\n"
     ]
    }
   ],
   "source": [
    "template = '''<html>\n",
    "<head><title>{title}</title></head>\n",
    "<body>\n",
    "<h1>{title}</h1>\n",
    "<p>{text}</p>\n",
    "</body>'''\n",
    "data = {'title': 'Hello World!', 'text': '这是一个测试！'}\n",
    "print(template.format_map(data))"
   ]
  },
  {
   "cell_type": "markdown",
   "metadata": {},
   "source": [
    "### 字典方法"
   ]
  },
  {
   "cell_type": "markdown",
   "metadata": {},
   "source": [
    "**clear** <br>方法 clear 删除所有的字典项,这种操作是就地执行的(就像 list.sort 一样),因此什么都不返回(或者说返回 None )。"
   ]
  },
  {
   "cell_type": "code",
   "execution_count": 8,
   "metadata": {},
   "outputs": [
    {
     "data": {
      "text/plain": [
       "{}"
      ]
     },
     "execution_count": 8,
     "metadata": {},
     "output_type": "execute_result"
    }
   ],
   "source": [
    "d = {'a':'12','b':34}\n",
    "d.clear()\n",
    "d"
   ]
  },
  {
   "cell_type": "markdown",
   "metadata": {},
   "source": [
    "**copy** <br>方法 copy 返回一个新字典,其包含的键-值对与原来的字典相同(这个方法执行的是**浅复制**,因为值本身是原件,而非副本)。"
   ]
  },
  {
   "cell_type": "code",
   "execution_count": 9,
   "metadata": {},
   "outputs": [
    {
     "name": "stdout",
     "output_type": "stream",
     "text": [
      "{'a': 'test', 'b': ['is', 'a', 'test']}\n",
      "{'a': 'hello', 'b': ['is', 'a', 'test']}\n"
     ]
    }
   ],
   "source": [
    "x = {'a':'test','b':['this','is','a','test']}\n",
    "y = x.copy()\n",
    "y['a'] = 'hello'\n",
    "y['b'].remove('this')\n",
    "print(x)\n",
    "print(y)"
   ]
  },
  {
   "cell_type": "markdown",
   "metadata": {},
   "source": [
    "当替换副本中的值时,原件不受影响。然而,如果**修改**副本中的值(就地修改而不是替换),原件也将发生变化,因为原件指向的也是被修改的值。为避免这种问题,一种办法是执行深复制,即同时复制值及其包含的所有值。"
   ]
  },
  {
   "cell_type": "code",
   "execution_count": 10,
   "metadata": {},
   "outputs": [
    {
     "name": "stdout",
     "output_type": "stream",
     "text": [
      "{'a': '123', 'b': ['456', '789', '789']}\n",
      "{'a': '123', 'b': ['456', '789']}\n"
     ]
    }
   ],
   "source": [
    "from copy import deepcopy\n",
    "d = {'a':'123','b':['456','789']}\n",
    "c = d.copy()\n",
    "dc = deepcopy(d)\n",
    "d['b'].append('789')\n",
    "print(c)\n",
    "print(dc)"
   ]
  },
  {
   "cell_type": "markdown",
   "metadata": {},
   "source": [
    "**fromkeys** <br>\n",
    "方法 fromkeys 创建一个新字典,其中包含指定的键,且每个键对应的值都是 None 。"
   ]
  },
  {
   "cell_type": "code",
   "execution_count": 11,
   "metadata": {},
   "outputs": [
    {
     "data": {
      "text/plain": [
       "{'key': None, 'name': None}"
      ]
     },
     "execution_count": 11,
     "metadata": {},
     "output_type": "execute_result"
    }
   ],
   "source": [
    "dict.fromkeys(['name','key'])"
   ]
  },
  {
   "cell_type": "code",
   "execution_count": 12,
   "metadata": {},
   "outputs": [
    {
     "data": {
      "text/plain": [
       "{'age': '(unknown)', 'name': '(unknown)'}"
      ]
     },
     "execution_count": 12,
     "metadata": {},
     "output_type": "execute_result"
    }
   ],
   "source": [
    "dict.fromkeys(['name', 'age'], '(unknown)')  #如果不想使用默认的None可以指定特定值"
   ]
  },
  {
   "cell_type": "markdown",
   "metadata": {},
   "source": [
    "**get** <br>方法 get 为访问字典项提供了宽松的环境。通常,如果你试图访问字典中没有的项,将引发错误。"
   ]
  },
  {
   "cell_type": "code",
   "execution_count": 13,
   "metadata": {},
   "outputs": [
    {
     "name": "stdout",
     "output_type": "stream",
     "text": [
      "None\n"
     ]
    },
    {
     "ename": "KeyError",
     "evalue": "'test'",
     "output_type": "error",
     "traceback": [
      "\u001b[0;31m---------------------------------------------------------------------------\u001b[0m",
      "\u001b[0;31mKeyError\u001b[0m                                  Traceback (most recent call last)",
      "\u001b[0;32m<ipython-input-13-5af725b5f25e>\u001b[0m in \u001b[0;36m<module>\u001b[0;34m()\u001b[0m\n\u001b[1;32m      1\u001b[0m \u001b[0md\u001b[0m \u001b[0;34m=\u001b[0m \u001b[0;34m{\u001b[0m\u001b[0;34m}\u001b[0m\u001b[0;34m\u001b[0m\u001b[0m\n\u001b[1;32m      2\u001b[0m \u001b[0mprint\u001b[0m\u001b[0;34m(\u001b[0m\u001b[0md\u001b[0m\u001b[0;34m.\u001b[0m\u001b[0mget\u001b[0m\u001b[0;34m(\u001b[0m\u001b[0;34m'test'\u001b[0m\u001b[0;34m)\u001b[0m\u001b[0;34m)\u001b[0m    \u001b[0;31m#使用 get 来访问不存在的键时,没有引发异常,而是返回 None 。\u001b[0m\u001b[0;34m\u001b[0m\u001b[0m\n\u001b[0;32m----> 3\u001b[0;31m \u001b[0mprint\u001b[0m\u001b[0;34m(\u001b[0m\u001b[0md\u001b[0m\u001b[0;34m[\u001b[0m\u001b[0;34m'test'\u001b[0m\u001b[0;34m]\u001b[0m\u001b[0;34m)\u001b[0m        \u001b[0;31m#访问字典中不存在的项将发生异常\u001b[0m\u001b[0;34m\u001b[0m\u001b[0m\n\u001b[0m",
      "\u001b[0;31mKeyError\u001b[0m: 'test'"
     ]
    }
   ],
   "source": [
    "d = {}\n",
    "print(d.get('test'))    #使用 get 来访问不存在的键时,没有引发异常,而是返回 None 。\n",
    "print(d['test'])        #访问字典中不存在的项将发生异常"
   ]
  },
  {
   "cell_type": "code",
   "execution_count": 14,
   "metadata": {},
   "outputs": [
    {
     "name": "stdout",
     "output_type": "stream",
     "text": [
      "不存在\n"
     ]
    }
   ],
   "source": [
    "print(d.get('test','不存在'))   #可以指定默认值"
   ]
  },
  {
   "cell_type": "code",
   "execution_count": 15,
   "metadata": {},
   "outputs": [
    {
     "name": "stdout",
     "output_type": "stream",
     "text": [
      "请输入姓名：tony\n",
      "1234\n"
     ]
    }
   ],
   "source": [
    "#示例代码\n",
    "\n",
    "dic = {'tony':1234,'alice':4567,'tim':7890}\n",
    "name = input(\"请输入姓名：\")\n",
    "print(dic.get(name,'请输入正确的姓名'))"
   ]
  },
  {
   "cell_type": "markdown",
   "metadata": {},
   "source": [
    "**items**<br>\n",
    "方法 items 返回一个包含所有字典项的列表,其中每个元素都为 (key, value) 的形式。字典项在列表中的排列顺序不确定。"
   ]
  },
  {
   "cell_type": "code",
   "execution_count": 16,
   "metadata": {},
   "outputs": [
    {
     "data": {
      "text/plain": [
       "dict_items([('a', 1), ('b', 2), ('c', 3), ('d', 4)])"
      ]
     },
     "execution_count": 16,
     "metadata": {},
     "output_type": "execute_result"
    }
   ],
   "source": [
    "x = {'a':1,'b':2,'c':3,'d':4}\n",
    "x.items()    #返回值属于一种名为字典视图的特殊类型"
   ]
  },
  {
   "cell_type": "markdown",
   "metadata": {},
   "source": [
    "**keys** <br>方法 keys 返回一个字典视图,其中包含指定字典中的键。"
   ]
  },
  {
   "cell_type": "code",
   "execution_count": 17,
   "metadata": {},
   "outputs": [
    {
     "data": {
      "text/plain": [
       "dict_keys(['a', 'b', 'c', 'd'])"
      ]
     },
     "execution_count": 17,
     "metadata": {},
     "output_type": "execute_result"
    }
   ],
   "source": [
    "x.keys()"
   ]
  },
  {
   "cell_type": "markdown",
   "metadata": {},
   "source": [
    "**pop** <br>方法 pop 可用于获取与指定键相关联的值,并将该键-值对从字典中删除。"
   ]
  },
  {
   "cell_type": "code",
   "execution_count": 18,
   "metadata": {},
   "outputs": [
    {
     "name": "stdout",
     "output_type": "stream",
     "text": [
      "1\n",
      "{'b': 2, 'c': 3, 'd': 4}\n"
     ]
    }
   ],
   "source": [
    "print(x.pop('a'))\n",
    "print(x)"
   ]
  },
  {
   "cell_type": "markdown",
   "metadata": {},
   "source": [
    "**popitem** <br>\n",
    "方法 popitem 类似于 list.pop ,但 list.pop 弹出列表中的最后一个元素,而 popitem 随机地弹出一个字典项,因为字典项的顺序是不确定的,没有“最后一个元素”的概念。该方法可以高效地逐个删除并处理所有字典项,因为其无需先获取键列表。"
   ]
  },
  {
   "cell_type": "code",
   "execution_count": 19,
   "metadata": {},
   "outputs": [
    {
     "name": "stdout",
     "output_type": "stream",
     "text": [
      "('d', 4)\n",
      "{'a': 1, 'b': 2, 'c': 3}\n"
     ]
    }
   ],
   "source": [
    "x = {'a':1,'b':2,'c':3,'d':4}\n",
    "print(x.popitem())\n",
    "print(x)"
   ]
  },
  {
   "cell_type": "markdown",
   "metadata": {},
   "source": [
    "**setdefault**<br>\n",
    "方法 setdefault 有点像 get ,因为它也获取与指定键相关联的值,但除此之外, setdefault还在字典不包含指定的键时,在字典中添加指定的键-值对。"
   ]
  },
  {
   "cell_type": "code",
   "execution_count": 20,
   "metadata": {},
   "outputs": [
    {
     "data": {
      "text/plain": [
       "{'name': 'N/A'}"
      ]
     },
     "execution_count": 20,
     "metadata": {},
     "output_type": "execute_result"
    }
   ],
   "source": [
    "d = {}\n",
    "d.setdefault('name','N/A')\n",
    "d"
   ]
  },
  {
   "cell_type": "code",
   "execution_count": 21,
   "metadata": {},
   "outputs": [
    {
     "data": {
      "text/plain": [
       "'Tony'"
      ]
     },
     "execution_count": 21,
     "metadata": {},
     "output_type": "execute_result"
    }
   ],
   "source": [
    "d['name'] = 'Tony'\n",
    "d.setdefault('name','N/A')  #与get相同，当第二个参数不指定时默认为None"
   ]
  },
  {
   "cell_type": "markdown",
   "metadata": {},
   "source": [
    "**update** <br>方法 update 使用一个字典中的项来更新另一个字典。对于通过参数提供的字典,将其项添加到当前字典中。如果当前字典包含键相同的项,就替换它。"
   ]
  },
  {
   "cell_type": "code",
   "execution_count": 22,
   "metadata": {},
   "outputs": [
    {
     "data": {
      "text/plain": [
       "{'a': 1, 'b': 1024, 'c': 3, 'd': 4, 'e': 5}"
      ]
     },
     "execution_count": 22,
     "metadata": {},
     "output_type": "execute_result"
    }
   ],
   "source": [
    "d = {'a':1,'b':2,'c':3,'d':4}\n",
    "x = {'b':1024,'e':5}\n",
    "d.update(x)\n",
    "d"
   ]
  },
  {
   "cell_type": "markdown",
   "metadata": {},
   "source": [
    "**values** <br>\n",
    "方法 values 返回一个由字典中的值组成的字典视图。不同于方法 keys ,方法 values 返回的视图可能包含重复的值。"
   ]
  },
  {
   "cell_type": "code",
   "execution_count": 23,
   "metadata": {},
   "outputs": [
    {
     "data": {
      "text/plain": [
       "dict_values([1, 1024, 3, 4, 5])"
      ]
     },
     "execution_count": 23,
     "metadata": {},
     "output_type": "execute_result"
    }
   ],
   "source": [
    "d.values()"
   ]
  }
 ],
 "metadata": {
  "kernelspec": {
   "display_name": "Python 3",
   "language": "python",
   "name": "python3"
  },
  "language_info": {
   "codemirror_mode": {
    "name": "ipython",
    "version": 3
   },
   "file_extension": ".py",
   "mimetype": "text/x-python",
   "name": "python",
   "nbconvert_exporter": "python",
   "pygments_lexer": "ipython3",
   "version": "3.6.4"
  }
 },
 "nbformat": 4,
 "nbformat_minor": 2
}
